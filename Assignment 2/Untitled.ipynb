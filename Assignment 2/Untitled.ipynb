{
 "cells": [
  {
   "cell_type": "markdown",
   "id": "3cd2c3a8-5f95-452d-bb80-43cb349b0b19",
   "metadata": {},
   "source": [
    "# INFO 204 Assignment 2"
   ]
  },
  {
   "cell_type": "code",
   "execution_count": null,
   "id": "6f0289e7-338b-4489-8d27-d5c03d44c6cf",
   "metadata": {},
   "outputs": [],
   "source": []
  }
 ],
 "metadata": {
  "kernelspec": {
   "display_name": "Python 3 (ipykernel)",
   "language": "python",
   "name": "python3"
  },
  "language_info": {
   "codemirror_mode": {
    "name": "ipython",
    "version": 3
   },
   "file_extension": ".py",
   "mimetype": "text/x-python",
   "name": "python",
   "nbconvert_exporter": "python",
   "pygments_lexer": "ipython3",
   "version": "3.10.5"
  }
 },
 "nbformat": 4,
 "nbformat_minor": 5
}
