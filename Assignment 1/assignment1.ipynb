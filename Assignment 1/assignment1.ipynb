{
 "cells": [
  {
   "cell_type": "markdown",
   "id": "7bbd8f27-9a1c-4804-962e-1392a6dadb92",
   "metadata": {},
   "source": [
    "# Assignment 1 - Jayden Prakash"
   ]
  },
  {
   "cell_type": "markdown",
   "id": "b8e731d5-f542-49b5-82df-0e5832e25ed3",
   "metadata": {},
   "source": [
    "## Part 1 - Short Answer"
   ]
  },
  {
   "cell_type": "markdown",
   "id": "3c2ee24d-8d14-4eac-81fe-0d999036a9c5",
   "metadata": {},
   "source": [
    "#### <b>Question 1</b> - What is supervised learning? What are two purposes/goals? How do these different goals change our approach?\n"
   ]
  },
  {
   "cell_type": "markdown",
   "id": "49d890a2-b71e-43b5-96c6-3d76d35b03f6",
   "metadata": {},
   "source": [
    "Supervised learning is a form of machine learning where we use a given set of inputs and outputs  to predict a new set of outputs given a new set of inputs. Previous data is usually used in order to train the algorithm in order to provide accurate predictions. One of the purposes of supervised learning is to classify data based on models which have been developed already and the other purpose is to make predictions of future outcomes based on these models. If you are wanting to predict a discrete variable such as if Something is 1 or 0, you would use a classifcation model, however if you were wanting to predict outcomes based on models or parameters you would use regression as these provide continuous variables which are usually used in predictions."
   ]
  },
  {
   "cell_type": "markdown",
   "id": "4c18714a-073b-4c8d-a00e-820411f83cf4",
   "metadata": {},
   "source": [
    "#### <b> Question 2 </b> - How do obtain insights about a problem using linear regression?"
   ]
  },
  {
   "cell_type": "markdown",
   "id": "61b09a82-9b88-41cb-990b-0ca68b28f88a",
   "metadata": {},
   "source": [
    "Linear regression is what is known as a parametric model. A parametric model learns from the parameters that describe the problem radther than predicting from past instances, as such the predictions are informed by the parameters. Linear regression uses two types of variables, the dependent variable which is what is being measured and the independent variables which is what is used to predict. Its represented by a linear equation that takes a given set of inputs that produce a solution which is the predicted output for that set of inputs. The equation assigns coefficients for each input value that is a scale factor and is also accompanied by a bias coefficient. By using this linear equation we are able to find inisghts by predicting a specific value based on its inputs"
   ]
  },
  {
   "cell_type": "markdown",
   "id": "f6c6d786-ab20-4a3c-9b8b-139ab7de2091",
   "metadata": {},
   "source": [
    "#### <b> Question 3 </b> - What is cross validation? How does cross validation obtain an honest estimate of performance? What is one drawback?"
   ]
  },
  {
   "cell_type": "markdown",
   "id": "6005e4de-7d23-49fd-b5ac-c7570143c4b6",
   "metadata": {},
   "source": [
    "Cross validation is a method to measure or evaluate learning models. It obtains an honest estimate by using K-fold cross validation where for a set of data you specify <b><i> k </i></b> folds, and each instance of data is mapped to a fold. Then for each fold, you take out the data that is mapped to it, and use the remaning data to train the model; once that is done you may use the data that you held out earlier to test the data. This is honest because it was tested on data that was not used in training. It is good because it uses the entire dataset instead of just some of it, one big drawback however is that it is quite computationally expensive, requiring you to run it <b> (k * r) + 1 </b> times per model where r is the number of times you need to repeat to assign data to folds."
   ]
  },
  {
   "cell_type": "markdown",
   "id": "3ef062eb-db4a-410c-a3c1-7c3f1d2bd435",
   "metadata": {},
   "source": [
    "## Part 2 - Data Wrangling and Exploratory Data Analysis"
   ]
  },
  {
   "cell_type": "markdown",
   "id": "25073b51-16d1-4b83-b870-7980087d2c5f",
   "metadata": {},
   "source": [
    "Import neccesary modules."
   ]
  },
  {
   "cell_type": "code",
   "execution_count": 3,
   "id": "1d2af2f9-1278-4648-9053-bc799e57d0ba",
   "metadata": {},
   "outputs": [],
   "source": [
    "import numpy as np\n",
    "import pandas as pd\n",
    "import seaborn as sns\n",
    " \n",
    "from matplotlib import pyplot as plt\n",
    "\n",
    "from sklearn.pipeline import Pipeline\n",
    "from sklearn.preprocessing import StandardScaler\n",
    "from sklearn.model_selection import GridSearchCV, KFold, cross_val_score\n",
    "from sklearn.metrics import mean_squared_error, r2_score\n",
    "\n",
    "\n",
    "from sklearn.dummy import DummyRegressor\n",
    "from sklearn.linear_model import LinearRegression\n",
    "from sklearn.neighbors import KNeighborsRegressor\n",
    "from sklearn.tree import DecisionTreeRegressor\n"
   ]
  },
  {
   "cell_type": "markdown",
   "id": "ad25d259-eb03-4406-9ae6-618e6ccfe398",
   "metadata": {},
   "source": [
    "Import CSV Files"
   ]
  },
  {
   "cell_type": "code",
   "execution_count": 5,
   "id": "bbce358a-42d0-4a92-906a-e7a66df0e4f4",
   "metadata": {},
   "outputs": [],
   "source": [
    "measurements = pd.read_csv('measurements.csv')\n",
    "visits = pd.read_csv('site_visits.csv')\n",
    "quality = pd.read_csv('water_quality_sites.csv')"
   ]
  }
 ],
 "metadata": {
  "kernelspec": {
   "display_name": "Python 3 (ipykernel)",
   "language": "python",
   "name": "python3"
  },
  "language_info": {
   "codemirror_mode": {
    "name": "ipython",
    "version": 3
   },
   "file_extension": ".py",
   "mimetype": "text/x-python",
   "name": "python",
   "nbconvert_exporter": "python",
   "pygments_lexer": "ipython3",
   "version": "3.10.5"
  },
  "toc-autonumbering": false
 },
 "nbformat": 4,
 "nbformat_minor": 5
}
