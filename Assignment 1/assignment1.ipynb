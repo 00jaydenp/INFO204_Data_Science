{
 "cells": [
  {
   "cell_type": "code",
   "execution_count": 2,
   "id": "2cfe8ded-0f92-48a6-a720-c68bf42e67ed",
   "metadata": {},
   "outputs": [],
   "source": [
    "# INFO 204 Lab 6 - Pipelines, Cross Validation and Neural Networks (I)"
   ]
  },
  {
   "cell_type": "code",
   "execution_count": null,
   "id": "b077e7b6-57ea-47b0-be10-c0f07728e729",
   "metadata": {},
   "outputs": [],
   "source": []
  }
 ],
 "metadata": {
  "kernelspec": {
   "display_name": "Python 3 (ipykernel)",
   "language": "python",
   "name": "python3"
  },
  "language_info": {
   "codemirror_mode": {
    "name": "ipython",
    "version": 3
   },
   "file_extension": ".py",
   "mimetype": "text/x-python",
   "name": "python",
   "nbconvert_exporter": "python",
   "pygments_lexer": "ipython3",
   "version": "3.10.5"
  }
 },
 "nbformat": 4,
 "nbformat_minor": 5
}
