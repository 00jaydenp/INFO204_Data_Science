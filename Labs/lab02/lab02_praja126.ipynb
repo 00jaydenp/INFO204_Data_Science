{
 "cells": [
  {
   "cell_type": "markdown",
   "metadata": {
    "id": "Ys1xODghCLiT"
   },
   "source": [
    "# INFO 204 Lab 2 - Data Manipulation & Plotting"
   ]
  },
  {
   "cell_type": "markdown",
   "metadata": {
    "id": "UOBc2GUmCLib"
   },
   "source": [
    "In this lab, we will be using NumPy to manipulate arrays and datasets, the [Matplotlib](https://matplotlib.org/) plotting utilities to do some useful graphs, and also make some fun probabilistic explorations.\n",
    "\n",
    "Throughout the lab, there are a number of required tasks, each labelled as **Task X**. Your goal for this lab is to complete these sections and then upload the completed notebook to Blackboard before the due date.\n",
    "\n",
    "Please ensure that the following libraries are installed: numpy, matplotlib, seaborn, scikit-learn "
   ]
  },
  {
   "cell_type": "markdown",
   "metadata": {
    "id": "C_UaVDtUCLii"
   },
   "source": [
    "## A. Arrays "
   ]
  },
  {
   "cell_type": "markdown",
   "metadata": {
    "id": "Y29s0V3dCLip"
   },
   "source": [
    "Arrays will form an important part of machine learning in Python, as most of the machine learning methods will learn from data presented in arrays. Array manipulation is similar to that of list manipulation that we covered in Lab 1. For a start, import numpy:"
   ]
  },
  {
   "cell_type": "code",
   "execution_count": null,
   "metadata": {
    "id": "2fUP1w5YCLiu"
   },
   "outputs": [],
   "source": [
    "import numpy as np ## the \"as np\" allows us to refer to the library through the short name 'np' rather than 'numpy'"
   ]
  },
  {
   "cell_type": "markdown",
   "metadata": {
    "id": "OaVTRbbBCLi_"
   },
   "source": [
    "Now we define a array \"v\":"
   ]
  },
  {
   "cell_type": "code",
   "execution_count": null,
   "metadata": {
    "id": "JUVXUe0eCLjA"
   },
   "outputs": [],
   "source": [
    "v = np.array([1,2,-1,-1])"
   ]
  },
  {
   "cell_type": "markdown",
   "metadata": {
    "id": "d5Xaw9XUCLjH"
   },
   "source": [
    "We can access array elements by their indeces, just like using a Python List:"
   ]
  },
  {
   "cell_type": "code",
   "execution_count": null,
   "metadata": {
    "colab": {
     "base_uri": "https://localhost:8080/"
    },
    "id": "eoQPOT26CLjI",
    "outputId": "fefee345-3df3-4f2c-88c1-f181b7f1530c"
   },
   "outputs": [
    {
     "data": {
      "text/plain": [
       "2"
      ]
     },
     "execution_count": 3,
     "metadata": {},
     "output_type": "execute_result"
    }
   ],
   "source": [
    "v[1]         # 2nd element"
   ]
  },
  {
   "cell_type": "code",
   "execution_count": null,
   "metadata": {
    "colab": {
     "base_uri": "https://localhost:8080/"
    },
    "id": "DW-NntB4CLjM",
    "outputId": "c55a5da1-11d3-4216-b809-05943d51f5c6"
   },
   "outputs": [
    {
     "data": {
      "text/plain": [
       "-1"
      ]
     },
     "execution_count": 4,
     "metadata": {},
     "output_type": "execute_result"
    }
   ],
   "source": [
    "v[-1]        # last element, same as in standard Python"
   ]
  },
  {
   "cell_type": "markdown",
   "metadata": {
    "id": "pY-nojlACLjR"
   },
   "source": [
    "Some simple operations on the array are straightforward:"
   ]
  },
  {
   "cell_type": "code",
   "execution_count": null,
   "metadata": {
    "colab": {
     "base_uri": "https://localhost:8080/"
    },
    "id": "VPAQeO_GCLjS",
    "outputId": "55109478-606a-4219-b408-8af68cad0b4d"
   },
   "outputs": [
    {
     "data": {
      "text/plain": [
       "1"
      ]
     },
     "execution_count": 5,
     "metadata": {},
     "output_type": "execute_result"
    }
   ],
   "source": [
    "np.sum(v)"
   ]
  },
  {
   "cell_type": "code",
   "execution_count": null,
   "metadata": {
    "colab": {
     "base_uri": "https://localhost:8080/"
    },
    "id": "q3_3YnM8CLjZ",
    "outputId": "66502a3b-f023-4479-836c-c7273acabdc7"
   },
   "outputs": [
    {
     "data": {
      "text/plain": [
       "array([3, 4, 1, 1])"
      ]
     },
     "execution_count": 6,
     "metadata": {},
     "output_type": "execute_result"
    }
   ],
   "source": [
    "v + 2"
   ]
  },
  {
   "cell_type": "code",
   "execution_count": null,
   "metadata": {
    "colab": {
     "base_uri": "https://localhost:8080/"
    },
    "id": "EXpNVJgdCLjd",
    "outputId": "3a5e3d6d-b57f-4d4d-cede-60eb606830e4"
   },
   "outputs": [
    {
     "data": {
      "text/plain": [
       "array([ 2,  4, -2, -2])"
      ]
     },
     "execution_count": 7,
     "metadata": {},
     "output_type": "execute_result"
    }
   ],
   "source": [
    "v * 2"
   ]
  },
  {
   "cell_type": "markdown",
   "metadata": {
    "id": "Uw4S0UepCLkK"
   },
   "source": [
    "As you see the manipulation of arrays is quite easy in NumPy. \n",
    "How about this multiplication operation between v and a new array x:"
   ]
  },
  {
   "cell_type": "code",
   "execution_count": null,
   "metadata": {
    "id": "27KQDHpNCLkN"
   },
   "outputs": [],
   "source": [
    "x = np.array([1,1,-1,-1])"
   ]
  },
  {
   "cell_type": "code",
   "execution_count": null,
   "metadata": {
    "colab": {
     "base_uri": "https://localhost:8080/"
    },
    "id": "KdN6K1acCLkT",
    "outputId": "c7e63ca6-47b0-4340-8499-b56070f73b11"
   },
   "outputs": [
    {
     "data": {
      "text/plain": [
       "array([1, 2, 1, 1])"
      ]
     },
     "execution_count": 9,
     "metadata": {},
     "output_type": "execute_result"
    }
   ],
   "source": [
    "x * v      #element-wise product"
   ]
  },
  {
   "cell_type": "markdown",
   "metadata": {
    "id": "iDrpsbooCLkX"
   },
   "source": [
    "and of course, we can chain these operations together:"
   ]
  },
  {
   "cell_type": "code",
   "execution_count": null,
   "metadata": {
    "colab": {
     "base_uri": "https://localhost:8080/"
    },
    "id": "foWgNuNFCLkX",
    "outputId": "83bfc97f-41a6-4cb4-a94e-466d9b5b80d0"
   },
   "outputs": [
    {
     "data": {
      "text/plain": [
       "5"
      ]
     },
     "execution_count": 10,
     "metadata": {},
     "output_type": "execute_result"
    }
   ],
   "source": [
    "np.sum(x * v)      "
   ]
  },
  {
   "cell_type": "markdown",
   "metadata": {
    "id": "c2N0gcVqCLkZ"
   },
   "source": [
    "Indeed, the last operation gives us the _dot product_ of the two vectors $\\mathbf{x}$ and $\\mathbf{v}$, i.e., $\\mathbf{x}^T\\mathbf{v}$.  This is such a common operator in many processes that in NumPy, this is implemented by the dedicated dot() function (see if it gives the same outcome as above):"
   ]
  },
  {
   "cell_type": "code",
   "execution_count": null,
   "metadata": {
    "colab": {
     "base_uri": "https://localhost:8080/"
    },
    "id": "6d8Lx9imCLkd",
    "outputId": "071158c0-6ca0-44c4-bc6a-1c277a8539b6"
   },
   "outputs": [
    {
     "data": {
      "text/plain": [
       "5"
      ]
     },
     "execution_count": 11,
     "metadata": {},
     "output_type": "execute_result"
    }
   ],
   "source": [
    "np.dot(x,v)"
   ]
  },
  {
   "cell_type": "markdown",
   "metadata": {
    "id": "IAEKVAklCLkf"
   },
   "source": [
    "Next, let us generate a 2D array (with 2 rows x 3 colums) using a random number generator and try out some simple operations:"
   ]
  },
  {
   "cell_type": "code",
   "execution_count": null,
   "metadata": {
    "id": "C9_CsldHCLkh"
   },
   "outputs": [],
   "source": [
    "a = np.random.default_rng().random((2,3))"
   ]
  },
  {
   "cell_type": "code",
   "execution_count": null,
   "metadata": {
    "colab": {
     "base_uri": "https://localhost:8080/"
    },
    "id": "smMcI1yqCLkm",
    "outputId": "5b597a53-4ac4-46d0-87de-863442029af1"
   },
   "outputs": [
    {
     "name": "stdout",
     "output_type": "stream",
     "text": [
      "[[0.38530965 0.87350052 0.14863651]\n",
      " [0.97965895 0.51491183 0.23347462]]\n"
     ]
    }
   ],
   "source": [
    "print(a)       # check out the content of \"a\""
   ]
  },
  {
   "cell_type": "markdown",
   "metadata": {
    "id": "R_C2SlWWLADK"
   },
   "source": [
    "If you've been given an array, and need to know its dimensions, you can find these out through the array's shape property:"
   ]
  },
  {
   "cell_type": "code",
   "execution_count": null,
   "metadata": {
    "colab": {
     "base_uri": "https://localhost:8080/"
    },
    "id": "7z77V81pLADK",
    "outputId": "737d034c-6dc6-44de-da13-7990035e8e7b"
   },
   "outputs": [
    {
     "name": "stdout",
     "output_type": "stream",
     "text": [
      "(2, 3)\n"
     ]
    }
   ],
   "source": [
    "print(a.shape)"
   ]
  },
  {
   "cell_type": "markdown",
   "metadata": {
    "id": "24EeR8PzCLko"
   },
   "source": [
    "Simple operations such as +,-,*,/ can be easily carrried out across all elements, e.g."
   ]
  },
  {
   "cell_type": "code",
   "execution_count": null,
   "metadata": {
    "colab": {
     "base_uri": "https://localhost:8080/"
    },
    "id": "89F3b2PzCLkp",
    "outputId": "c02a8d9e-dfe2-498e-b5db-2dfa256d5ad9"
   },
   "outputs": [
    {
     "name": "stdout",
     "output_type": "stream",
     "text": [
      "[[5.38530965 5.87350052 5.14863651]\n",
      " [5.97965895 5.51491183 5.23347462]]\n"
     ]
    }
   ],
   "source": [
    "print(a + 5)"
   ]
  },
  {
   "cell_type": "markdown",
   "metadata": {
    "id": "vtwtEHxACLku"
   },
   "source": [
    "Now that we have a 2-D array, we can do operation on one axis or the other, e.g., a vertical addition:"
   ]
  },
  {
   "cell_type": "code",
   "execution_count": null,
   "metadata": {
    "colab": {
     "base_uri": "https://localhost:8080/"
    },
    "id": "4oP1O2A6CLkz",
    "outputId": "cc1da8df-8845-44bd-f1c2-34234e006d6e"
   },
   "outputs": [
    {
     "name": "stdout",
     "output_type": "stream",
     "text": [
      "[1.3649686  1.38841235 0.38211113]\n"
     ]
    }
   ],
   "source": [
    "print(np.sum(a, axis=0))"
   ]
  },
  {
   "cell_type": "markdown",
   "metadata": {
    "id": "Mzmy9s-6CLlM"
   },
   "source": [
    "and a horizontal addition (column-wise):"
   ]
  },
  {
   "cell_type": "code",
   "execution_count": null,
   "metadata": {
    "colab": {
     "base_uri": "https://localhost:8080/"
    },
    "id": "RIde1DCxCLlP",
    "outputId": "c2202752-9dcc-4ce3-8f87-0e56f87233b1"
   },
   "outputs": [
    {
     "name": "stdout",
     "output_type": "stream",
     "text": [
      "[1.40744669 1.72804539]\n"
     ]
    }
   ],
   "source": [
    "print(np.sum(a, axis=1))"
   ]
  },
  {
   "cell_type": "markdown",
   "metadata": {
    "id": "AvkdpFTzCLlZ"
   },
   "source": [
    "How do we access rows or columns of an 2-D array? Try these -"
   ]
  },
  {
   "cell_type": "code",
   "execution_count": null,
   "metadata": {
    "colab": {
     "base_uri": "https://localhost:8080/"
    },
    "id": "uF9r53ZJCLlc",
    "outputId": "610e29d1-fbf4-456d-ed39-b452b9e48ade"
   },
   "outputs": [
    {
     "name": "stdout",
     "output_type": "stream",
     "text": [
      "[0.38530965 0.87350052 0.14863651]\n"
     ]
    }
   ],
   "source": [
    "# first row, or simply \"a[0]\"\"\n",
    "print(a[0,:])"
   ]
  },
  {
   "cell_type": "code",
   "execution_count": null,
   "metadata": {
    "colab": {
     "base_uri": "https://localhost:8080/"
    },
    "id": "SDTtehd1CLlg",
    "outputId": "9f58ce40-2764-4e0b-c308-e3d94636d86f"
   },
   "outputs": [
    {
     "name": "stdout",
     "output_type": "stream",
     "text": [
      "[0.38530965 0.97965895]\n"
     ]
    }
   ],
   "source": [
    "# first column\n",
    "print(a[:,0])"
   ]
  },
  {
   "cell_type": "code",
   "execution_count": null,
   "metadata": {
    "colab": {
     "base_uri": "https://localhost:8080/"
    },
    "id": "mQd7Z22BLADM",
    "outputId": "0ae74ef9-ff8d-406f-9338-0a8973210da5"
   },
   "outputs": [
    {
     "name": "stdout",
     "output_type": "stream",
     "text": [
      "0.6824842979159622\n"
     ]
    }
   ],
   "source": [
    "# mean value of the first column\n",
    "print(np.mean(a[:,0]))"
   ]
  },
  {
   "cell_type": "markdown",
   "metadata": {
    "id": "c2XwGu6yCLlq"
   },
   "source": [
    "**<span style=\"color: red\">Task 1:</span>** Find out what numpy's [hstack()](https://docs.scipy.org/doc/numpy/reference/generated/numpy.hstack.html#numpy.hstack), \n",
    "[vstack()](https://numpy.org/doc/stable/reference/generated/numpy.vstack.html) \n",
    "or [c_[]](https://numpy.org/doc/stable/reference/generated/numpy.c_.html) does. Put variable a's 1st and 3rd columns into a new 2-D array:"
   ]
  },
  {
   "cell_type": "code",
   "execution_count": null,
   "metadata": {
    "colab": {
     "base_uri": "https://localhost:8080/"
    },
    "id": "eT9T5m3wCLlu",
    "outputId": "c6a9b9fc-0483-43c5-d7c6-d8b9a69c66f3"
   },
   "outputs": [
    {
     "name": "stdout",
     "output_type": "stream",
     "text": [
      "[[0.73598766 0.80896714]\n",
      " [0.52953103 0.95911043]]\n"
     ]
    }
   ],
   "source": [
    "# your code here\n",
    "\n",
    "#print(np.hstack((a[:,0], a[:,2])))\n",
    "#print(np.vstack((a[:,0], a[:,2])))\n",
    "x=np.c_[a[:,0],a[:,2]]\n",
    "print(x)\n"
   ]
  },
  {
   "cell_type": "markdown",
   "metadata": {
    "id": "bW1yu1OMCLnX"
   },
   "source": [
    "## B. Dealing with datasets"
   ]
  },
  {
   "cell_type": "markdown",
   "metadata": {
    "id": "78mGjVkPCLnY"
   },
   "source": [
    "Now we are ready to play with a dataset and put our array manipulation skills into good use. First, we load in a Scikit-Learn dataset related to the well-known \"California Housing\" regression problem. This dataset has instances that describe median house value for California districts, expressed in hundreds of thousands of dollars ($100,000)."
   ]
  },
  {
   "cell_type": "code",
   "execution_count": null,
   "metadata": {
    "id": "SmVORGWHCLnY"
   },
   "outputs": [],
   "source": [
    "from sklearn import datasets\n",
    "calif = datasets.fetch_california_housing()"
   ]
  },
  {
   "cell_type": "markdown",
   "metadata": {
    "id": "A-8a78F-CLne"
   },
   "source": [
    "We can check out some information about the dataset:"
   ]
  },
  {
   "cell_type": "code",
   "execution_count": null,
   "metadata": {
    "colab": {
     "base_uri": "https://localhost:8080/"
    },
    "id": "uzAM0wPiCLnh",
    "outputId": "ebbc08c8-1f70-40b2-df8a-da1871f62601"
   },
   "outputs": [
    {
     "name": "stdout",
     "output_type": "stream",
     "text": [
      "Keys of calif: dict_keys(['data', 'target', 'frame', 'target_names', 'feature_names', 'DESCR'])\n",
      "Feature names: ['MedInc', 'HouseAge', 'AveRooms', 'AveBedrms', 'Population', 'AveOccup', 'Latitude', 'Longitude']\n",
      "Shape of data: (20640, 8)\n"
     ]
    }
   ],
   "source": [
    "print(\"Keys of calif: {}\".format(calif.keys()))\n",
    "print(\"Feature names: {}\".format(calif.feature_names))\n",
    "print(\"Shape of data: {}\".format(calif.data.shape))"
   ]
  },
  {
   "cell_type": "markdown",
   "metadata": {
    "id": "JntK_93bCLn-"
   },
   "source": [
    "We now extract the data and target separately and assign them to \"X\" and \"y\". This X-y notation is frequently encountered in machine learning and will be adopted for most of our future labs. "
   ]
  },
  {
   "cell_type": "code",
   "execution_count": null,
   "metadata": {
    "id": "6hrvFoBuCLn_"
   },
   "outputs": [],
   "source": [
    "X = calif.data\n",
    "y = calif.target"
   ]
  },
  {
   "cell_type": "code",
   "execution_count": null,
   "metadata": {
    "colab": {
     "base_uri": "https://localhost:8080/"
    },
    "id": "RNf2T3pSCLoH",
    "outputId": "faa2fdc2-fa31-4877-9728-7d3c246f8eb1"
   },
   "outputs": [
    {
     "data": {
      "text/plain": [
       "((20640, 8), (20640,))"
      ]
     },
     "execution_count": 45,
     "metadata": {},
     "output_type": "execute_result"
    }
   ],
   "source": [
    "# check out the shapes - see if they match with the dataset report above. \n",
    "X.shape, y.shape"
   ]
  },
  {
   "cell_type": "markdown",
   "metadata": {
    "id": "4gFVv6V3CLoV"
   },
   "source": [
    "The 'feature_names' information extracted from the dataset does not seem to be very informative, even though we may be able to guess out the meaning of a few attributes. You can find more description of the dataset [here](https://www.kaggle.com/datasets/camnugent/california-housing-prices). Note our target value is \"MedHouseVal\". \n",
    "\n",
    "A popular way of handling datasets is using Pandas' DataFrame. The following code imports the pandas package and generate a DataFrame from the data we've got - note we use Numpy's \"c_[]\" utility to attach the target labels to the feature data X, merging them into one spreadsheet:"
   ]
  },
  {
   "cell_type": "code",
   "execution_count": null,
   "metadata": {
    "id": "wiw5eZDBCLoX"
   },
   "outputs": [],
   "source": [
    "import pandas as pd\n",
    "df = pd.DataFrame(data=np.c_[X, y], columns=calif['feature_names'] + ['MedHouseVal'])"
   ]
  },
  {
   "cell_type": "markdown",
   "metadata": {
    "id": "1GT-02yBCLol"
   },
   "source": [
    "Now, let's take a look of the head of the dataframe - it's nicely (re)presented:"
   ]
  },
  {
   "cell_type": "code",
   "execution_count": null,
   "metadata": {
    "colab": {
     "base_uri": "https://localhost:8080/",
     "height": 206
    },
    "id": "BxwnxNLPCLor",
    "outputId": "1318934a-59d5-4882-8f40-3253e481b854"
   },
   "outputs": [
    {
     "data": {
      "text/html": [
       "\n",
       "  <div id=\"df-f9f23f66-f77c-4809-b576-7e9ad23aacb6\">\n",
       "    <div class=\"colab-df-container\">\n",
       "      <div>\n",
       "<style scoped>\n",
       "    .dataframe tbody tr th:only-of-type {\n",
       "        vertical-align: middle;\n",
       "    }\n",
       "\n",
       "    .dataframe tbody tr th {\n",
       "        vertical-align: top;\n",
       "    }\n",
       "\n",
       "    .dataframe thead th {\n",
       "        text-align: right;\n",
       "    }\n",
       "</style>\n",
       "<table border=\"1\" class=\"dataframe\">\n",
       "  <thead>\n",
       "    <tr style=\"text-align: right;\">\n",
       "      <th></th>\n",
       "      <th>MedInc</th>\n",
       "      <th>HouseAge</th>\n",
       "      <th>AveRooms</th>\n",
       "      <th>AveBedrms</th>\n",
       "      <th>Population</th>\n",
       "      <th>AveOccup</th>\n",
       "      <th>Latitude</th>\n",
       "      <th>Longitude</th>\n",
       "      <th>MedHouseVal</th>\n",
       "    </tr>\n",
       "  </thead>\n",
       "  <tbody>\n",
       "    <tr>\n",
       "      <th>0</th>\n",
       "      <td>8.3252</td>\n",
       "      <td>41.0</td>\n",
       "      <td>6.984127</td>\n",
       "      <td>1.023810</td>\n",
       "      <td>322.0</td>\n",
       "      <td>2.555556</td>\n",
       "      <td>37.88</td>\n",
       "      <td>-122.23</td>\n",
       "      <td>4.526</td>\n",
       "    </tr>\n",
       "    <tr>\n",
       "      <th>1</th>\n",
       "      <td>8.3014</td>\n",
       "      <td>21.0</td>\n",
       "      <td>6.238137</td>\n",
       "      <td>0.971880</td>\n",
       "      <td>2401.0</td>\n",
       "      <td>2.109842</td>\n",
       "      <td>37.86</td>\n",
       "      <td>-122.22</td>\n",
       "      <td>3.585</td>\n",
       "    </tr>\n",
       "    <tr>\n",
       "      <th>2</th>\n",
       "      <td>7.2574</td>\n",
       "      <td>52.0</td>\n",
       "      <td>8.288136</td>\n",
       "      <td>1.073446</td>\n",
       "      <td>496.0</td>\n",
       "      <td>2.802260</td>\n",
       "      <td>37.85</td>\n",
       "      <td>-122.24</td>\n",
       "      <td>3.521</td>\n",
       "    </tr>\n",
       "    <tr>\n",
       "      <th>3</th>\n",
       "      <td>5.6431</td>\n",
       "      <td>52.0</td>\n",
       "      <td>5.817352</td>\n",
       "      <td>1.073059</td>\n",
       "      <td>558.0</td>\n",
       "      <td>2.547945</td>\n",
       "      <td>37.85</td>\n",
       "      <td>-122.25</td>\n",
       "      <td>3.413</td>\n",
       "    </tr>\n",
       "    <tr>\n",
       "      <th>4</th>\n",
       "      <td>3.8462</td>\n",
       "      <td>52.0</td>\n",
       "      <td>6.281853</td>\n",
       "      <td>1.081081</td>\n",
       "      <td>565.0</td>\n",
       "      <td>2.181467</td>\n",
       "      <td>37.85</td>\n",
       "      <td>-122.25</td>\n",
       "      <td>3.422</td>\n",
       "    </tr>\n",
       "  </tbody>\n",
       "</table>\n",
       "</div>\n",
       "      <button class=\"colab-df-convert\" onclick=\"convertToInteractive('df-f9f23f66-f77c-4809-b576-7e9ad23aacb6')\"\n",
       "              title=\"Convert this dataframe to an interactive table.\"\n",
       "              style=\"display:none;\">\n",
       "        \n",
       "  <svg xmlns=\"http://www.w3.org/2000/svg\" height=\"24px\"viewBox=\"0 0 24 24\"\n",
       "       width=\"24px\">\n",
       "    <path d=\"M0 0h24v24H0V0z\" fill=\"none\"/>\n",
       "    <path d=\"M18.56 5.44l.94 2.06.94-2.06 2.06-.94-2.06-.94-.94-2.06-.94 2.06-2.06.94zm-11 1L8.5 8.5l.94-2.06 2.06-.94-2.06-.94L8.5 2.5l-.94 2.06-2.06.94zm10 10l.94 2.06.94-2.06 2.06-.94-2.06-.94-.94-2.06-.94 2.06-2.06.94z\"/><path d=\"M17.41 7.96l-1.37-1.37c-.4-.4-.92-.59-1.43-.59-.52 0-1.04.2-1.43.59L10.3 9.45l-7.72 7.72c-.78.78-.78 2.05 0 2.83L4 21.41c.39.39.9.59 1.41.59.51 0 1.02-.2 1.41-.59l7.78-7.78 2.81-2.81c.8-.78.8-2.07 0-2.86zM5.41 20L4 18.59l7.72-7.72 1.47 1.35L5.41 20z\"/>\n",
       "  </svg>\n",
       "      </button>\n",
       "      \n",
       "  <style>\n",
       "    .colab-df-container {\n",
       "      display:flex;\n",
       "      flex-wrap:wrap;\n",
       "      gap: 12px;\n",
       "    }\n",
       "\n",
       "    .colab-df-convert {\n",
       "      background-color: #E8F0FE;\n",
       "      border: none;\n",
       "      border-radius: 50%;\n",
       "      cursor: pointer;\n",
       "      display: none;\n",
       "      fill: #1967D2;\n",
       "      height: 32px;\n",
       "      padding: 0 0 0 0;\n",
       "      width: 32px;\n",
       "    }\n",
       "\n",
       "    .colab-df-convert:hover {\n",
       "      background-color: #E2EBFA;\n",
       "      box-shadow: 0px 1px 2px rgba(60, 64, 67, 0.3), 0px 1px 3px 1px rgba(60, 64, 67, 0.15);\n",
       "      fill: #174EA6;\n",
       "    }\n",
       "\n",
       "    [theme=dark] .colab-df-convert {\n",
       "      background-color: #3B4455;\n",
       "      fill: #D2E3FC;\n",
       "    }\n",
       "\n",
       "    [theme=dark] .colab-df-convert:hover {\n",
       "      background-color: #434B5C;\n",
       "      box-shadow: 0px 1px 3px 1px rgba(0, 0, 0, 0.15);\n",
       "      filter: drop-shadow(0px 1px 2px rgba(0, 0, 0, 0.3));\n",
       "      fill: #FFFFFF;\n",
       "    }\n",
       "  </style>\n",
       "\n",
       "      <script>\n",
       "        const buttonEl =\n",
       "          document.querySelector('#df-f9f23f66-f77c-4809-b576-7e9ad23aacb6 button.colab-df-convert');\n",
       "        buttonEl.style.display =\n",
       "          google.colab.kernel.accessAllowed ? 'block' : 'none';\n",
       "\n",
       "        async function convertToInteractive(key) {\n",
       "          const element = document.querySelector('#df-f9f23f66-f77c-4809-b576-7e9ad23aacb6');\n",
       "          const dataTable =\n",
       "            await google.colab.kernel.invokeFunction('convertToInteractive',\n",
       "                                                     [key], {});\n",
       "          if (!dataTable) return;\n",
       "\n",
       "          const docLinkHtml = 'Like what you see? Visit the ' +\n",
       "            '<a target=\"_blank\" href=https://colab.research.google.com/notebooks/data_table.ipynb>data table notebook</a>'\n",
       "            + ' to learn more about interactive tables.';\n",
       "          element.innerHTML = '';\n",
       "          dataTable['output_type'] = 'display_data';\n",
       "          await google.colab.output.renderOutput(dataTable, element);\n",
       "          const docLink = document.createElement('div');\n",
       "          docLink.innerHTML = docLinkHtml;\n",
       "          element.appendChild(docLink);\n",
       "        }\n",
       "      </script>\n",
       "    </div>\n",
       "  </div>\n",
       "  "
      ],
      "text/plain": [
       "   MedInc  HouseAge  AveRooms  AveBedrms  Population  AveOccup  Latitude  \\\n",
       "0  8.3252      41.0  6.984127   1.023810       322.0  2.555556     37.88   \n",
       "1  8.3014      21.0  6.238137   0.971880      2401.0  2.109842     37.86   \n",
       "2  7.2574      52.0  8.288136   1.073446       496.0  2.802260     37.85   \n",
       "3  5.6431      52.0  5.817352   1.073059       558.0  2.547945     37.85   \n",
       "4  3.8462      52.0  6.281853   1.081081       565.0  2.181467     37.85   \n",
       "\n",
       "   Longitude  MedHouseVal  \n",
       "0    -122.23        4.526  \n",
       "1    -122.22        3.585  \n",
       "2    -122.24        3.521  \n",
       "3    -122.25        3.413  \n",
       "4    -122.25        3.422  "
      ]
     },
     "execution_count": 47,
     "metadata": {},
     "output_type": "execute_result"
    }
   ],
   "source": [
    "df.head()"
   ]
  },
  {
   "cell_type": "markdown",
   "metadata": {
    "id": "4kGYMEyGCLou"
   },
   "source": [
    "To locate data in a data frame, use row and column information:"
   ]
  },
  {
   "cell_type": "code",
   "execution_count": null,
   "metadata": {
    "colab": {
     "base_uri": "https://localhost:8080/"
    },
    "id": "-aP--P4zCLoy",
    "outputId": "8f8c7677-3cce-4fc3-ae37-90b82764d14a"
   },
   "outputs": [
    {
     "data": {
      "text/plain": [
       "52.0"
      ]
     },
     "execution_count": 12,
     "metadata": {},
     "output_type": "execute_result"
    }
   ],
   "source": [
    "df.iloc[2]['HouseAge'] ## extracts the \"House Age\" column of the third row"
   ]
  },
  {
   "cell_type": "markdown",
   "metadata": {
    "id": "0Kxwg6LHCLo1"
   },
   "source": [
    "Or, extract an attribute's values for a row range, as an array - compare the output with the dataframe head displayed above - note the use of *.values*:"
   ]
  },
  {
   "cell_type": "code",
   "execution_count": null,
   "metadata": {
    "colab": {
     "base_uri": "https://localhost:8080/"
    },
    "id": "p8t3J9WmCLo2",
    "outputId": "bd20514e-b25d-43ef-9b97-d165ae1aecf4"
   },
   "outputs": [
    {
     "name": "stdout",
     "output_type": "stream",
     "text": [
      "[21. 52. 52.]\n"
     ]
    }
   ],
   "source": [
    "print(df.iloc[1:4]['HouseAge'].values) ## extracts the \"House Age\" column of the second to fourth rows of the data set"
   ]
  },
  {
   "cell_type": "markdown",
   "metadata": {
    "id": "1LIZtbYOCLpH"
   },
   "source": [
    "You can issue queries on the dataframe, e.g., finding all entries with a HouseAge value not greater than 10:"
   ]
  },
  {
   "cell_type": "code",
   "execution_count": null,
   "metadata": {
    "colab": {
     "base_uri": "https://localhost:8080/",
     "height": 424
    },
    "id": "pMZtLawRCLpN",
    "outputId": "f3d39179-d684-46f1-d706-3895e9cbcfbb"
   },
   "outputs": [
    {
     "data": {
      "text/html": [
       "\n",
       "  <div id=\"df-4e9a6f88-bc01-41bf-9613-82ea69d37e7e\">\n",
       "    <div class=\"colab-df-container\">\n",
       "      <div>\n",
       "<style scoped>\n",
       "    .dataframe tbody tr th:only-of-type {\n",
       "        vertical-align: middle;\n",
       "    }\n",
       "\n",
       "    .dataframe tbody tr th {\n",
       "        vertical-align: top;\n",
       "    }\n",
       "\n",
       "    .dataframe thead th {\n",
       "        text-align: right;\n",
       "    }\n",
       "</style>\n",
       "<table border=\"1\" class=\"dataframe\">\n",
       "  <thead>\n",
       "    <tr style=\"text-align: right;\">\n",
       "      <th></th>\n",
       "      <th>MedInc</th>\n",
       "      <th>HouseAge</th>\n",
       "      <th>AveRooms</th>\n",
       "      <th>AveBedrms</th>\n",
       "      <th>Population</th>\n",
       "      <th>AveOccup</th>\n",
       "      <th>Latitude</th>\n",
       "      <th>Longitude</th>\n",
       "      <th>MedHouseVal</th>\n",
       "    </tr>\n",
       "  </thead>\n",
       "  <tbody>\n",
       "    <tr>\n",
       "      <th>59</th>\n",
       "      <td>2.5625</td>\n",
       "      <td>2.0</td>\n",
       "      <td>2.771930</td>\n",
       "      <td>0.754386</td>\n",
       "      <td>94.0</td>\n",
       "      <td>1.649123</td>\n",
       "      <td>37.82</td>\n",
       "      <td>-122.29</td>\n",
       "      <td>0.600</td>\n",
       "    </tr>\n",
       "    <tr>\n",
       "      <th>87</th>\n",
       "      <td>0.7600</td>\n",
       "      <td>10.0</td>\n",
       "      <td>2.651515</td>\n",
       "      <td>1.054545</td>\n",
       "      <td>546.0</td>\n",
       "      <td>1.654545</td>\n",
       "      <td>37.81</td>\n",
       "      <td>-122.27</td>\n",
       "      <td>1.625</td>\n",
       "    </tr>\n",
       "    <tr>\n",
       "      <th>88</th>\n",
       "      <td>0.9722</td>\n",
       "      <td>10.0</td>\n",
       "      <td>2.692308</td>\n",
       "      <td>1.076923</td>\n",
       "      <td>125.0</td>\n",
       "      <td>3.205128</td>\n",
       "      <td>37.80</td>\n",
       "      <td>-122.27</td>\n",
       "      <td>1.375</td>\n",
       "    </tr>\n",
       "    <tr>\n",
       "      <th>437</th>\n",
       "      <td>2.1705</td>\n",
       "      <td>10.0</td>\n",
       "      <td>5.030000</td>\n",
       "      <td>1.180000</td>\n",
       "      <td>228.0</td>\n",
       "      <td>2.280000</td>\n",
       "      <td>37.87</td>\n",
       "      <td>-122.30</td>\n",
       "      <td>1.500</td>\n",
       "    </tr>\n",
       "    <tr>\n",
       "      <th>570</th>\n",
       "      <td>7.6110</td>\n",
       "      <td>5.0</td>\n",
       "      <td>6.855776</td>\n",
       "      <td>1.061442</td>\n",
       "      <td>7427.0</td>\n",
       "      <td>2.732524</td>\n",
       "      <td>37.72</td>\n",
       "      <td>-122.24</td>\n",
       "      <td>3.507</td>\n",
       "    </tr>\n",
       "    <tr>\n",
       "      <th>...</th>\n",
       "      <td>...</td>\n",
       "      <td>...</td>\n",
       "      <td>...</td>\n",
       "      <td>...</td>\n",
       "      <td>...</td>\n",
       "      <td>...</td>\n",
       "      <td>...</td>\n",
       "      <td>...</td>\n",
       "      <td>...</td>\n",
       "    </tr>\n",
       "    <tr>\n",
       "      <th>20570</th>\n",
       "      <td>3.2222</td>\n",
       "      <td>6.0</td>\n",
       "      <td>4.821429</td>\n",
       "      <td>1.032468</td>\n",
       "      <td>894.0</td>\n",
       "      <td>2.902597</td>\n",
       "      <td>38.54</td>\n",
       "      <td>-121.96</td>\n",
       "      <td>1.396</td>\n",
       "    </tr>\n",
       "    <tr>\n",
       "      <th>20571</th>\n",
       "      <td>3.4186</td>\n",
       "      <td>6.0</td>\n",
       "      <td>5.662562</td>\n",
       "      <td>1.027094</td>\n",
       "      <td>2561.0</td>\n",
       "      <td>3.153941</td>\n",
       "      <td>38.53</td>\n",
       "      <td>-121.99</td>\n",
       "      <td>1.273</td>\n",
       "    </tr>\n",
       "    <tr>\n",
       "      <th>20574</th>\n",
       "      <td>1.9327</td>\n",
       "      <td>10.0</td>\n",
       "      <td>5.789474</td>\n",
       "      <td>1.078947</td>\n",
       "      <td>898.0</td>\n",
       "      <td>3.938596</td>\n",
       "      <td>38.57</td>\n",
       "      <td>-121.92</td>\n",
       "      <td>1.938</td>\n",
       "    </tr>\n",
       "    <tr>\n",
       "      <th>20588</th>\n",
       "      <td>2.0474</td>\n",
       "      <td>5.0</td>\n",
       "      <td>4.378132</td>\n",
       "      <td>1.113895</td>\n",
       "      <td>938.0</td>\n",
       "      <td>2.136674</td>\n",
       "      <td>39.15</td>\n",
       "      <td>-121.59</td>\n",
       "      <td>0.613</td>\n",
       "    </tr>\n",
       "    <tr>\n",
       "      <th>20627</th>\n",
       "      <td>3.0000</td>\n",
       "      <td>5.0</td>\n",
       "      <td>6.067797</td>\n",
       "      <td>1.101695</td>\n",
       "      <td>169.0</td>\n",
       "      <td>2.864407</td>\n",
       "      <td>39.13</td>\n",
       "      <td>-121.32</td>\n",
       "      <td>1.625</td>\n",
       "    </tr>\n",
       "  </tbody>\n",
       "</table>\n",
       "<p>1569 rows × 9 columns</p>\n",
       "</div>\n",
       "      <button class=\"colab-df-convert\" onclick=\"convertToInteractive('df-4e9a6f88-bc01-41bf-9613-82ea69d37e7e')\"\n",
       "              title=\"Convert this dataframe to an interactive table.\"\n",
       "              style=\"display:none;\">\n",
       "        \n",
       "  <svg xmlns=\"http://www.w3.org/2000/svg\" height=\"24px\"viewBox=\"0 0 24 24\"\n",
       "       width=\"24px\">\n",
       "    <path d=\"M0 0h24v24H0V0z\" fill=\"none\"/>\n",
       "    <path d=\"M18.56 5.44l.94 2.06.94-2.06 2.06-.94-2.06-.94-.94-2.06-.94 2.06-2.06.94zm-11 1L8.5 8.5l.94-2.06 2.06-.94-2.06-.94L8.5 2.5l-.94 2.06-2.06.94zm10 10l.94 2.06.94-2.06 2.06-.94-2.06-.94-.94-2.06-.94 2.06-2.06.94z\"/><path d=\"M17.41 7.96l-1.37-1.37c-.4-.4-.92-.59-1.43-.59-.52 0-1.04.2-1.43.59L10.3 9.45l-7.72 7.72c-.78.78-.78 2.05 0 2.83L4 21.41c.39.39.9.59 1.41.59.51 0 1.02-.2 1.41-.59l7.78-7.78 2.81-2.81c.8-.78.8-2.07 0-2.86zM5.41 20L4 18.59l7.72-7.72 1.47 1.35L5.41 20z\"/>\n",
       "  </svg>\n",
       "      </button>\n",
       "      \n",
       "  <style>\n",
       "    .colab-df-container {\n",
       "      display:flex;\n",
       "      flex-wrap:wrap;\n",
       "      gap: 12px;\n",
       "    }\n",
       "\n",
       "    .colab-df-convert {\n",
       "      background-color: #E8F0FE;\n",
       "      border: none;\n",
       "      border-radius: 50%;\n",
       "      cursor: pointer;\n",
       "      display: none;\n",
       "      fill: #1967D2;\n",
       "      height: 32px;\n",
       "      padding: 0 0 0 0;\n",
       "      width: 32px;\n",
       "    }\n",
       "\n",
       "    .colab-df-convert:hover {\n",
       "      background-color: #E2EBFA;\n",
       "      box-shadow: 0px 1px 2px rgba(60, 64, 67, 0.3), 0px 1px 3px 1px rgba(60, 64, 67, 0.15);\n",
       "      fill: #174EA6;\n",
       "    }\n",
       "\n",
       "    [theme=dark] .colab-df-convert {\n",
       "      background-color: #3B4455;\n",
       "      fill: #D2E3FC;\n",
       "    }\n",
       "\n",
       "    [theme=dark] .colab-df-convert:hover {\n",
       "      background-color: #434B5C;\n",
       "      box-shadow: 0px 1px 3px 1px rgba(0, 0, 0, 0.15);\n",
       "      filter: drop-shadow(0px 1px 2px rgba(0, 0, 0, 0.3));\n",
       "      fill: #FFFFFF;\n",
       "    }\n",
       "  </style>\n",
       "\n",
       "      <script>\n",
       "        const buttonEl =\n",
       "          document.querySelector('#df-4e9a6f88-bc01-41bf-9613-82ea69d37e7e button.colab-df-convert');\n",
       "        buttonEl.style.display =\n",
       "          google.colab.kernel.accessAllowed ? 'block' : 'none';\n",
       "\n",
       "        async function convertToInteractive(key) {\n",
       "          const element = document.querySelector('#df-4e9a6f88-bc01-41bf-9613-82ea69d37e7e');\n",
       "          const dataTable =\n",
       "            await google.colab.kernel.invokeFunction('convertToInteractive',\n",
       "                                                     [key], {});\n",
       "          if (!dataTable) return;\n",
       "\n",
       "          const docLinkHtml = 'Like what you see? Visit the ' +\n",
       "            '<a target=\"_blank\" href=https://colab.research.google.com/notebooks/data_table.ipynb>data table notebook</a>'\n",
       "            + ' to learn more about interactive tables.';\n",
       "          element.innerHTML = '';\n",
       "          dataTable['output_type'] = 'display_data';\n",
       "          await google.colab.output.renderOutput(dataTable, element);\n",
       "          const docLink = document.createElement('div');\n",
       "          docLink.innerHTML = docLinkHtml;\n",
       "          element.appendChild(docLink);\n",
       "        }\n",
       "      </script>\n",
       "    </div>\n",
       "  </div>\n",
       "  "
      ],
      "text/plain": [
       "       MedInc  HouseAge  AveRooms  AveBedrms  Population  AveOccup  Latitude  \\\n",
       "59     2.5625       2.0  2.771930   0.754386        94.0  1.649123     37.82   \n",
       "87     0.7600      10.0  2.651515   1.054545       546.0  1.654545     37.81   \n",
       "88     0.9722      10.0  2.692308   1.076923       125.0  3.205128     37.80   \n",
       "437    2.1705      10.0  5.030000   1.180000       228.0  2.280000     37.87   \n",
       "570    7.6110       5.0  6.855776   1.061442      7427.0  2.732524     37.72   \n",
       "...       ...       ...       ...        ...         ...       ...       ...   \n",
       "20570  3.2222       6.0  4.821429   1.032468       894.0  2.902597     38.54   \n",
       "20571  3.4186       6.0  5.662562   1.027094      2561.0  3.153941     38.53   \n",
       "20574  1.9327      10.0  5.789474   1.078947       898.0  3.938596     38.57   \n",
       "20588  2.0474       5.0  4.378132   1.113895       938.0  2.136674     39.15   \n",
       "20627  3.0000       5.0  6.067797   1.101695       169.0  2.864407     39.13   \n",
       "\n",
       "       Longitude  MedHouseVal  \n",
       "59       -122.29        0.600  \n",
       "87       -122.27        1.625  \n",
       "88       -122.27        1.375  \n",
       "437      -122.30        1.500  \n",
       "570      -122.24        3.507  \n",
       "...          ...          ...  \n",
       "20570    -121.96        1.396  \n",
       "20571    -121.99        1.273  \n",
       "20574    -121.92        1.938  \n",
       "20588    -121.59        0.613  \n",
       "20627    -121.32        1.625  \n",
       "\n",
       "[1569 rows x 9 columns]"
      ]
     },
     "execution_count": 14,
     "metadata": {},
     "output_type": "execute_result"
    }
   ],
   "source": [
    "df[df['HouseAge'] <= 10.0]"
   ]
  },
  {
   "cell_type": "markdown",
   "metadata": {
    "id": "ygxaXC0-CLpf"
   },
   "source": [
    "**<span style='color:red'>Task 2:</span>** Find out the average house age value for all entries with at least 6.0 rooms (on average)."
   ]
  },
  {
   "cell_type": "code",
   "execution_count": null,
   "metadata": {
    "colab": {
     "base_uri": "https://localhost:8080/"
    },
    "id": "t6Myv9KqCLph",
    "outputId": "96c35672-8538-49f7-974e-0ab3238284ce"
   },
   "outputs": [
    {
     "data": {
      "text/plain": [
       "24.0062649714391"
      ]
     },
     "execution_count": 22,
     "metadata": {},
     "output_type": "execute_result"
    }
   ],
   "source": [
    "# your code here\n",
    "df[df['AveRooms'] >= 6.0 ][\"HouseAge\"].mean()\n"
   ]
  },
  {
   "cell_type": "markdown",
   "metadata": {
    "id": "ksDw-lPjCLpx"
   },
   "source": [
    "## C. Plotting"
   ]
  },
  {
   "cell_type": "markdown",
   "metadata": {
    "id": "dzAx_4sMCLpx"
   },
   "source": [
    "It's time for us to do some plotting. To do this we need to import the Matplotlib/pyplot package:"
   ]
  },
  {
   "cell_type": "code",
   "execution_count": null,
   "metadata": {
    "id": "fdlFXomWCLp2"
   },
   "outputs": [],
   "source": [
    "import matplotlib.pyplot as plt ## like with numpy, the 'as plt' provides us with the short alias for the library"
   ]
  },
  {
   "cell_type": "markdown",
   "metadata": {
    "id": "Y1dacMNrCLp4"
   },
   "source": [
    "We can display the average occupancy (AveOccup) column as a sequence (i.e. average occupancy across the 20K+ districts; this doesn't make much sense but serves an example):"
   ]
  },
  {
   "cell_type": "code",
   "execution_count": null,
   "metadata": {
    "colab": {
     "base_uri": "https://localhost:8080/",
     "height": 265
    },
    "id": "V1DDVQ_tCLp5",
    "outputId": "91d96c25-e80d-4c3f-ce09-936d4a4a099e"
   },
   "outputs": [
    {
     "data": {
      "image/png": "[encoded data removed]",
      "text/plain": [
       "<Figure size 432x288 with 1 Axes>"
      ]
     },
     "metadata": {
      "needs_background": "light"
     },
     "output_type": "display_data"
    }
   ],
   "source": [
    "plt.plot(df['AveOccup']); ## note the semicolon at the end of the statement - it prevents the return value of the plot function from being printed (try removing it and see what happens)"
   ]
  },
  {
   "cell_type": "markdown",
   "metadata": {
    "id": "ssj3u7bcCLp6"
   },
   "source": [
    "We can also choose two columns (i.e. attributes) and do a **scatter plot**. In this case we choose the first and last attributes (i.e., median income and median house value), and plot the coordinates using a blue dot:"
   ]
  },
  {
   "cell_type": "code",
   "execution_count": null,
   "metadata": {
    "colab": {
     "base_uri": "https://localhost:8080/",
     "height": 265
    },
    "id": "0rZd9WqiCLp7",
    "outputId": "f4c74156-5763-491b-923a-a34d7c0baa32"
   },
   "outputs": [
    {
     "data": {
      "image/png": "[encoded data removed]",
      "text/plain": [
       "<Figure size 432x288 with 1 Axes>"
      ]
     },
     "metadata": {
      "needs_background": "light"
     },
     "output_type": "display_data"
    }
   ],
   "source": [
    "plt.plot(df['MedInc'], df['MedHouseVal'], 'b.');"
   ]
  },
  {
   "cell_type": "markdown",
   "metadata": {
    "id": "byrF2L1NCLp8"
   },
   "source": [
    "We can use the \"hist\" function to generate a histogram, e.g. of the target values. The number of bins is specified as 25, and with the \"density\" parameter set the histogram frequencies are normalized - the bar heights now add to 1. "
   ]
  },
  {
   "cell_type": "code",
   "execution_count": null,
   "metadata": {
    "colab": {
     "base_uri": "https://localhost:8080/",
     "height": 265
    },
    "id": "PFWme5kECLp9",
    "outputId": "26528f9a-aba5-418e-dfdd-18f4cf3f5959"
   },
   "outputs": [
    {
     "data": {
      "image/png": "[encoded data removed]",
      "text/plain": [
       "<Figure size 432x288 with 1 Axes>"
      ]
     },
     "metadata": {
      "needs_background": "light"
     },
     "output_type": "display_data"
    }
   ],
   "source": [
    "plt.hist(df['MedHouseVal'], bins=25, density=True);"
   ]
  },
  {
   "cell_type": "markdown",
   "metadata": {
    "id": "qirSsh1mCLp-"
   },
   "source": [
    "Or use seaborn's \"displot\", with a smooth density estimation displayed:"
   ]
  },
  {
   "cell_type": "code",
   "execution_count": null,
   "metadata": {
    "colab": {
     "base_uri": "https://localhost:8080/",
     "height": 369
    },
    "id": "qIoF4Yj6CLp_",
    "outputId": "407344fc-fb89-400a-c2d3-4b96f4fff851"
   },
   "outputs": [
    {
     "data": {
      "image/png": "[encoded data removed]",
      "text/plain": [
       "<Figure size 360x360 with 1 Axes>"
      ]
     },
     "metadata": {
      "needs_background": "light"
     },
     "output_type": "display_data"
    }
   ],
   "source": [
    "import seaborn as sb\n",
    "sb.displot(y, kde=True);"
   ]
  },
  {
   "cell_type": "markdown",
   "metadata": {
    "id": "7tPpdDx_CLqA"
   },
   "source": [
    "**<span style='color: red'>Task 3:</span>** Plot the histogram for the median household income attribute values. "
   ]
  },
  {
   "cell_type": "code",
   "execution_count": null,
   "metadata": {
    "colab": {
     "base_uri": "https://localhost:8080/",
     "height": 265
    },
    "id": "lCOgiXDsCLqA",
    "outputId": "d0c264a8-c581-4a3c-d260-a0244fce0411"
   },
   "outputs": [
    {
     "data": {
      "image/png": "[encoded data removed]",
      "text/plain": [
       "<Figure size 432x288 with 1 Axes>"
      ]
     },
     "metadata": {
      "needs_background": "light"
     },
     "output_type": "display_data"
    }
   ],
   "source": [
    "# Your code here....\n",
    "plt.hist(df['MedInc'], bins=25, density=True);"
   ]
  },
  {
   "cell_type": "markdown",
   "metadata": {
    "id": "78O4Spd8LADS"
   },
   "source": [
    "You should notice that the distribution of the MedInc variable is skewed. Many modelling methods and analyses assume that data is normally distributed (or at least close to normal). Often, skewed data is better modelled through a _log transform_.\n",
    "\n",
    "**<span style='color: red'>Task 4:</span>** Plot the histogram for the MedInc attribute values _after_ applying a log transform on the values (NumPy provides a [log()](https://numpy.org/doc/stable/reference/generated/numpy.log.html) function that simplifies this process)"
   ]
  },
  {
   "cell_type": "code",
   "execution_count": null,
   "metadata": {
    "colab": {
     "base_uri": "https://localhost:8080/",
     "height": 265
    },
    "id": "0zvySxRuLADS",
    "outputId": "7c2a8d0a-c677-4213-c556-7699ac5828e4"
   },
   "outputs": [
    {
     "data": {
      "image/png": "[encoded data removed]",
      "text/plain": [
       "<Figure size 432x288 with 1 Axes>"
      ]
     },
     "metadata": {
      "needs_background": "light"
     },
     "output_type": "display_data"
    }
   ],
   "source": [
    "# Your code here....\n",
    "\n",
    "plt.hist(np.log(df['MedInc']), bins=25, density=True);"
   ]
  },
  {
   "cell_type": "markdown",
   "metadata": {
    "id": "Y6jDnXYrCLqC"
   },
   "source": [
    "If done correctly, then the resulting histogram should look more like the \"bell curve\" expected from a normal distribution.\n",
    "\n",
    "Seaborn can some other nice plots. E.g., here's the correlation matrix of all attributes (including target) shown as a heatmap:"
   ]
  },
  {
   "cell_type": "code",
   "execution_count": null,
   "metadata": {
    "colab": {
     "base_uri": "https://localhost:8080/",
     "height": 327
    },
    "id": "L_7rUi4BCLqC",
    "outputId": "7cf9e961-f5cd-47b4-94ab-cee2025b5342"
   },
   "outputs": [
    {
     "data": {
      "image/png": "[encoded data removed]",
      "text/plain": [
       "<Figure size 432x288 with 2 Axes>"
      ]
     },
     "metadata": {
      "needs_background": "light"
     },
     "output_type": "display_data"
    }
   ],
   "source": [
    "sb.heatmap(df.corr());"
   ]
  },
  {
   "cell_type": "markdown",
   "metadata": {
    "id": "7K8sgsbgCLqE"
   },
   "source": [
    "**<span style='color: red'>Task 5:</span>** From the correlation heatmap shown above, which attribute/feature has the largest correlation with the \"MedHouseVal\" value (Tip: check colors on the last column)? Does it make sense? "
   ]
  },
  {
   "cell_type": "markdown",
   "metadata": {
    "id": "nqcenG9mCLqF"
   },
   "source": [
    "Your answer (click this cell and type in): \n",
    "\n",
    "- MedInc\n"
   ]
  },
  {
   "cell_type": "markdown",
   "metadata": {
    "id": "V1HMwozzCLqG"
   },
   "source": [
    "## D. Probabilistic expoloration\n",
    "\n",
    "The last part of the lab is related to the concept of probability and probability distributions. \n",
    "\n",
    "### Tom's Breakfast\n",
    "\n",
    "Tom has difficulty in deciding what to eat for breakfast each morning, so he decides to follow some *random* rules:\n",
    "1. If it's a fine day, he'll toss a \\$2 coin: heads for eggs, tails for muesli.\n",
    "2. otherwise, if it's a rainy day, he'll toss a \\$1 coin: head for eggs, tails for muesli.\n",
    "It turns out that neither the \\$2 or \\$1 coins are fair (i.e., the chance of a head does not equal the change of a tail). The probability of the \\$2 coin toss returning a head is 0.7, and the probability of a head from the \\$1 coin toss is 0.4.\n",
    "\n",
    "Assume that the probability of a fine day is 0.6\n",
    "\n",
    "Tom wants to know what is the probability that he'll have eggs on any given day - we could work this out analytically (and should find that the probability is 0.58), but Tom wants to estimate the probability through _simulation_. This can be done using a random number generator in the following manner:\n",
    "1. Start with an empty list\n",
    "2. Generate a random number between 0 and 1 - if the number is below 0.6 then the day is \"fine\"\n",
    "3. If the day is fine, then generate another random number between 0 and 1 - if the number is below 0.7 then append a 1 to the list, otherwise append a 0\n",
    "4. If the day is rainy, then generate another random number between 0 and 1 - if the number is below 0.4 then append a 1 to the list, otherwise append a 0\n",
    "5. Repeat steps 2-4 for a given number of days (e.g., 100)\n",
    "6. Compute the mean of the list\n",
    "\n",
    "In the above algorithm, appending a 1 to the list equates to \"eggs for breakfast\" and appending a 0 equates to \"muesli for breakfast\". Therefore, the mean of the list is an estimate of the probability of eggs for any given day.\n",
    "\n",
    "**<span style='color:red'>Task 6:</span>** Write a few Python lines that generates breakfast picks for Tom, over 100 days; count the number of eggs days. Do the same for 1000 days and then again for 10000 days.\n",
    "Tips: to make it simple, use an array (list) to store the choices, 1 for eggs, 0 for muesli. Also the NumPy [uniform()](https://numpy.org/doc/stable/reference/random/generated/numpy.random.Generator.uniform.html) function will be a huge help here!"
   ]
  },
  {
   "cell_type": "code",
   "execution_count": null,
   "metadata": {
    "colab": {
     "base_uri": "https://localhost:8080/"
    },
    "id": "taVrtWTXCLqG",
    "outputId": "8510c0f1-a33d-4908-b8f3-5a2464e09562"
   },
   "outputs": [
    {
     "name": "stdout",
     "output_type": "stream",
     "text": [
      "Number of egg days for 100 days: 65\n",
      "Number of egg days for 1000 days: 595\n",
      "Number of egg days for 10000 days: 5814\n"
     ]
    }
   ],
   "source": [
    "# Your code here\n",
    "def breakfast_count(days):\n",
    "  egg_days = 0\n",
    "  fine_days = np.sum(np.random.uniform(low=0, high=1, size=days) <= 0.6)\n",
    "  two_dollar = np.sum(np.random.uniform(low=0, high=1, size=fine_days) <= 0.7)\n",
    "  one_dollar = np.sum(np.random.uniform(low=0, high=1, size=days-fine_days) <= 0.4)\n",
    "  egg_days = one_dollar + two_dollar\n",
    "  return egg_days\n",
    "\n",
    "print(\"Number of egg days for 100 days: \" + str(breakfast_count(100)))\n",
    "print(\"Number of egg days for 1000 days: \" + str(breakfast_count(1000)))\n",
    "print(\"Number of egg days for 10000 days: \" + str(breakfast_count(10000)))\n",
    "\n"
   ]
  },
  {
   "cell_type": "markdown",
   "metadata": {
    "id": "sQgLmvJ6CLqJ"
   },
   "source": [
    "Run your code for a couple of times, and comment on your findings:\n",
    "\n",
    "- Number of egg days for 100 days: 62\n",
    "- Number of egg days for 1000 days: 551\n",
    "- Number of egg days for 10000 days: 5748"
   ]
  },
  {
   "cell_type": "markdown",
   "metadata": {
    "id": "BhMmVbrxCLqK"
   },
   "source": [
    "### Central Limit Theorem\n",
    "If you have 4 rolls of a dice and get 1, 3, 2, 4, then the mean is $(1+3+2+4)/4=2.5$. How about we generate more rolls samples, and see how the sample means are distributed? \n",
    "\n",
    "**<span style='color: red'>Task 7a:</span>** Generate 1000 dice rolls. Find out the mean result. Hint: recall the [integers()](https://numpy.org/doc/stable/reference/random/generated/numpy.random.Generator.integers.html) function from the previous lab!"
   ]
  },
  {
   "cell_type": "code",
   "execution_count": null,
   "metadata": {
    "colab": {
     "base_uri": "https://localhost:8080/",
     "height": 183
    },
    "id": "VZD_wMIZCLqK",
    "outputId": "0628618f-50d3-4783-c3c3-4624c19fcbea"
   },
   "outputs": [
    {
     "ename": "NameError",
     "evalue": "ignored",
     "output_type": "error",
     "traceback": [
      "\u001b[0;31m---------------------------------------------------------------------------\u001b[0m",
      "\u001b[0;31mNameError\u001b[0m                                 Traceback (most recent call last)",
      "\u001b[0;32m<ipython-input-1-a03b78651eff>\u001b[0m in \u001b[0;36m<module>\u001b[0;34m()\u001b[0m\n\u001b[1;32m      1\u001b[0m \u001b[0;31m# your code here\u001b[0m\u001b[0;34m\u001b[0m\u001b[0;34m\u001b[0m\u001b[0;34m\u001b[0m\u001b[0m\n\u001b[0;32m----> 2\u001b[0;31m \u001b[0mprint\u001b[0m\u001b[0;34m(\u001b[0m\u001b[0mnp\u001b[0m\u001b[0;34m.\u001b[0m\u001b[0mmean\u001b[0m\u001b[0;34m(\u001b[0m\u001b[0mnp\u001b[0m\u001b[0;34m.\u001b[0m\u001b[0mrandom\u001b[0m\u001b[0;34m.\u001b[0m\u001b[0mrandint\u001b[0m\u001b[0;34m(\u001b[0m\u001b[0;36m1\u001b[0m\u001b[0;34m,\u001b[0m \u001b[0;36m7\u001b[0m\u001b[0;34m,\u001b[0m \u001b[0;36m1000\u001b[0m\u001b[0;34m)\u001b[0m\u001b[0;34m)\u001b[0m\u001b[0;34m)\u001b[0m\u001b[0;34m\u001b[0m\u001b[0;34m\u001b[0m\u001b[0m\n\u001b[0m",
      "\u001b[0;31mNameError\u001b[0m: name 'np' is not defined"
     ]
    }
   ],
   "source": [
    "# your code here\n",
    "print(np.mean(np.random.randint(1, 7, 1000)))"
   ]
  },
  {
   "cell_type": "markdown",
   "metadata": {
    "id": "PHskpCzsLADT"
   },
   "source": [
    "**<span style='color: red'>Task 7b:</span>** Repeat Step 1 for 1000 times, plot a histogram for all mean values. "
   ]
  },
  {
   "cell_type": "code",
   "execution_count": null,
   "metadata": {
    "id": "8HJp3aJ8LADT"
   },
   "outputs": [],
   "source": [
    "# your code here\n",
    "\n",
    "plt.hist([np.mean(np.random.randint(1, 7, 1000)) for i in range(1000)])"
   ]
  },
  {
   "cell_type": "markdown",
   "metadata": {
    "id": "SzAyxzjmCLqO"
   },
   "source": [
    "The [Central Limit Theorem](http://sphweb.bumc.bu.edu/otlt/MPH-Modules/BS/BS704_Probability/BS704_Probability12.html) states that for independent and identically distributed (i.i.d) samples, the distribution of the sample means will be normally distributed. Do these results look normally distributed to you?"
   ]
  },
  {
   "cell_type": "markdown",
   "metadata": {
    "id": "yDaglbIWCLqO"
   },
   "source": [
    "######  End of Lab 2.\n",
    "Please remember to rename your completed notebook and submit it via Blackboard. "
   ]
  }
 ],
 "metadata": {
  "colab": {
   "collapsed_sections": [
    "BhMmVbrxCLqK"
   ],
   "name": "lab02_praja126.ipynb",
   "provenance": []
  },
  "kernelspec": {
   "display_name": "Python 3 (ipykernel)",
   "language": "python",
   "name": "python3"
  },
  "language_info": {
   "codemirror_mode": {
    "name": "ipython",
    "version": 3
   },
   "file_extension": ".py",
   "mimetype": "text/x-python",
   "name": "python",
   "nbconvert_exporter": "python",
   "pygments_lexer": "ipython3",
   "version": "3.10.5"
  },
  "vscode": {
   "interpreter": {
    "hash": "6cd7c1542a73558432d23f7bfd38fa48f42d125cb13936ce634ddc84c6bbe112"
   }
  }
 },
 "nbformat": 4,
 "nbformat_minor": 4
}
