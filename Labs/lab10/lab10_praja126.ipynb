{
 "cells": [
  {
   "cell_type": "markdown",
   "id": "ce87775c-a2a8-4cd8-bbf9-0a2d49d739a8",
   "metadata": {},
   "source": [
    "# INFO 204 Lab 10 - Modelling with Text (SPAM Detection)"
   ]
  },
  {
   "cell_type": "markdown",
   "id": "d892e026-f1c3-460c-b70b-67653238f2ef",
   "metadata": {},
   "source": [
    "***<span style='color: #ce2227;'>PLEASE READ ALL THE INSTRUCTIONS AND ACCOMPANYING TEXT IN LAB NOTEBOOKS - THE INFORMATION NEDED TO ANSWER A GIVEN TASK OR INTERPRET A GIVEN RESULT IS OFTEN IN THE TEXT!</span>***\n",
    "\n",
    "As discussed in lectures, text-based sources of data represent a challenge for modelling due to their variable length and structure. In this lab, we will briefly examine the features of scikit-learn that allow you to extract basic fixed-length statistics from text suitable for modelling in a supervised learning context. The case study will be a fairly small (~100MB) sample of emails from which you will build a SPAM predictor.\n",
    "\n",
    "***WARNING: the data set contains over 50000 emails, many of which are spam. Some of these will possible contain somewhat tasteless language. We will avoid direct examination of such examples whereever possible.***"
   ]
  },
  {
   "cell_type": "markdown",
   "id": "d78ace84-58bb-440e-938a-b3e8863c7f5a",
   "metadata": {},
   "source": [
    "## Precursors\n",
    "\n",
    "For this lab, we will require the following libraries and components:"
   ]
  },
  {
   "cell_type": "code",
   "execution_count": 1,
   "id": "975d635f-5db2-4053-a750-4aeea7915084",
   "metadata": {},
   "outputs": [],
   "source": [
    "import numpy as np\n",
    "import pandas as pd\n",
    "import seaborn as sns\n",
    "\n",
    "from matplotlib import pyplot as plt\n",
    "\n",
    "from sklearn.pipeline import Pipeline\n",
    "from sklearn.decomposition import TruncatedSVD\n",
    "from sklearn.feature_extraction.text import CountVectorizer, TfidfVectorizer, TfidfTransformer\n",
    "from sklearn.metrics import make_scorer, f1_score, classification_report, confusion_matrix\n",
    "from sklearn.model_selection import train_test_split, GridSearchCV, KFold\n",
    "from sklearn.linear_model import LogisticRegression\n",
    "from sklearn.dummy import DummyClassifier"
   ]
  },
  {
   "cell_type": "markdown",
   "id": "d4fcec01-e527-4111-a4ae-59949719fb91",
   "metadata": {},
   "source": [
    "## Text, Corpora, and Vectorizers\n",
    "Before proceeding with building the SPAM detector on a large set of data, it is useful to demonstrate the process of extracting features from text. Here we will examine a simple bag of words (BOW) process (using the `CountVectorizer` provided by scikit-learn). Then we will see how a BOW representation can be further processed using term frequency and inverse document frequency ([tf-idf](https://en.wikipedia.org/wiki/Tf%E2%80%93idf)).\n",
    "\n",
    "To start with, we need a [corpus](https://en.wikipedia.org/wiki/Text_corpus) of data. The corpus that we will work with here is a collection of lines from Shakespeare:"
   ]
  },
  {
   "cell_type": "code",
   "execution_count": 2,
   "id": "06577964-648c-40bc-8c01-24b3ea0a2f91",
   "metadata": {},
   "outputs": [],
   "source": [
    "quotes = np.array([\n",
    "    'To be, or not to be: that is the question',\n",
    "    'All the world\\'s a stage, and all the men and women merely players',\n",
    "    'Romeo, Romeo! Wherefore art thou Romeo?',\n",
    "    'Now is the winter of our discontent',\n",
    "    'Is this a dagger which I see before me, the handle toward my hand?',\n",
    "    'The lady doth protest too much, methinks',\n",
    "    'Beware the Ides of March.',\n",
    "    'Get thee to a nunnery.',\n",
    "    'If music be the food of love play on.',\n",
    "    'What\\'s in a name? A rose by any other name would smell as sweet.'\n",
    "])"
   ]
  },
  {
   "cell_type": "markdown",
   "id": "a6db0762-dd24-48d7-a04b-462b73a856b9",
   "metadata": {},
   "source": [
    "Note that the process of extracting features from this corpus is _unsupervised_. We do not need a corresponding label (target) for our text.\n",
    "\n",
    "Now that we have our corpus, we can start with the feature extraction process. First, we construct the vectorizer:"
   ]
  },
  {
   "cell_type": "code",
   "execution_count": 3,
   "id": "a158b90a-6780-47e3-af3d-8d310bbdbe59",
   "metadata": {},
   "outputs": [],
   "source": [
    "vec = CountVectorizer()"
   ]
  },
  {
   "cell_type": "markdown",
   "id": "04ff84c1-38b7-4e32-811d-79e2042f8ddf",
   "metadata": {},
   "source": [
    "Then, we need to \"fit\" this vectorizer to our data - this will establish our vocabulary, and then tally the counts of words in each document"
   ]
  },
  {
   "cell_type": "code",
   "execution_count": 4,
   "id": "da4db635-0bb6-45d7-ada2-0757d80bec81",
   "metadata": {},
   "outputs": [
    {
     "data": {
      "text/html": [
       "<style>#sk-container-id-1 {color: black;background-color: white;}#sk-container-id-1 pre{padding: 0;}#sk-container-id-1 div.sk-toggleable {background-color: white;}#sk-container-id-1 label.sk-toggleable__label {cursor: pointer;display: block;width: 100%;margin-bottom: 0;padding: 0.3em;box-sizing: border-box;text-align: center;}#sk-container-id-1 label.sk-toggleable__label-arrow:before {content: \"▸\";float: left;margin-right: 0.25em;color: #696969;}#sk-container-id-1 label.sk-toggleable__label-arrow:hover:before {color: black;}#sk-container-id-1 div.sk-estimator:hover label.sk-toggleable__label-arrow:before {color: black;}#sk-container-id-1 div.sk-toggleable__content {max-height: 0;max-width: 0;overflow: hidden;text-align: left;background-color: #f0f8ff;}#sk-container-id-1 div.sk-toggleable__content pre {margin: 0.2em;color: black;border-radius: 0.25em;background-color: #f0f8ff;}#sk-container-id-1 input.sk-toggleable__control:checked~div.sk-toggleable__content {max-height: 200px;max-width: 100%;overflow: auto;}#sk-container-id-1 input.sk-toggleable__control:checked~label.sk-toggleable__label-arrow:before {content: \"▾\";}#sk-container-id-1 div.sk-estimator input.sk-toggleable__control:checked~label.sk-toggleable__label {background-color: #d4ebff;}#sk-container-id-1 div.sk-label input.sk-toggleable__control:checked~label.sk-toggleable__label {background-color: #d4ebff;}#sk-container-id-1 input.sk-hidden--visually {border: 0;clip: rect(1px 1px 1px 1px);clip: rect(1px, 1px, 1px, 1px);height: 1px;margin: -1px;overflow: hidden;padding: 0;position: absolute;width: 1px;}#sk-container-id-1 div.sk-estimator {font-family: monospace;background-color: #f0f8ff;border: 1px dotted black;border-radius: 0.25em;box-sizing: border-box;margin-bottom: 0.5em;}#sk-container-id-1 div.sk-estimator:hover {background-color: #d4ebff;}#sk-container-id-1 div.sk-parallel-item::after {content: \"\";width: 100%;border-bottom: 1px solid gray;flex-grow: 1;}#sk-container-id-1 div.sk-label:hover label.sk-toggleable__label {background-color: #d4ebff;}#sk-container-id-1 div.sk-serial::before {content: \"\";position: absolute;border-left: 1px solid gray;box-sizing: border-box;top: 0;bottom: 0;left: 50%;z-index: 0;}#sk-container-id-1 div.sk-serial {display: flex;flex-direction: column;align-items: center;background-color: white;padding-right: 0.2em;padding-left: 0.2em;position: relative;}#sk-container-id-1 div.sk-item {position: relative;z-index: 1;}#sk-container-id-1 div.sk-parallel {display: flex;align-items: stretch;justify-content: center;background-color: white;position: relative;}#sk-container-id-1 div.sk-item::before, #sk-container-id-1 div.sk-parallel-item::before {content: \"\";position: absolute;border-left: 1px solid gray;box-sizing: border-box;top: 0;bottom: 0;left: 50%;z-index: -1;}#sk-container-id-1 div.sk-parallel-item {display: flex;flex-direction: column;z-index: 1;position: relative;background-color: white;}#sk-container-id-1 div.sk-parallel-item:first-child::after {align-self: flex-end;width: 50%;}#sk-container-id-1 div.sk-parallel-item:last-child::after {align-self: flex-start;width: 50%;}#sk-container-id-1 div.sk-parallel-item:only-child::after {width: 0;}#sk-container-id-1 div.sk-dashed-wrapped {border: 1px dashed gray;margin: 0 0.4em 0.5em 0.4em;box-sizing: border-box;padding-bottom: 0.4em;background-color: white;}#sk-container-id-1 div.sk-label label {font-family: monospace;font-weight: bold;display: inline-block;line-height: 1.2em;}#sk-container-id-1 div.sk-label-container {text-align: center;}#sk-container-id-1 div.sk-container {/* jupyter's `normalize.less` sets `[hidden] { display: none; }` but bootstrap.min.css set `[hidden] { display: none !important; }` so we also need the `!important` here to be able to override the default hidden behavior on the sphinx rendered scikit-learn.org. See: https://github.com/scikit-learn/scikit-learn/issues/21755 */display: inline-block !important;position: relative;}#sk-container-id-1 div.sk-text-repr-fallback {display: none;}</style><div id=\"sk-container-id-1\" class=\"sk-top-container\"><div class=\"sk-text-repr-fallback\"><pre>CountVectorizer()</pre><b>In a Jupyter environment, please rerun this cell to show the HTML representation or trust the notebook. <br />On GitHub, the HTML representation is unable to render, please try loading this page with nbviewer.org.</b></div><div class=\"sk-container\" hidden><div class=\"sk-item\"><div class=\"sk-estimator sk-toggleable\"><input class=\"sk-toggleable__control sk-hidden--visually\" id=\"sk-estimator-id-1\" type=\"checkbox\" checked><label for=\"sk-estimator-id-1\" class=\"sk-toggleable__label sk-toggleable__label-arrow\">CountVectorizer</label><div class=\"sk-toggleable__content\"><pre>CountVectorizer()</pre></div></div></div></div></div>"
      ],
      "text/plain": [
       "CountVectorizer()"
      ]
     },
     "execution_count": 4,
     "metadata": {},
     "output_type": "execute_result"
    }
   ],
   "source": [
    "vec.fit(quotes)"
   ]
  },
  {
   "cell_type": "markdown",
   "id": "9d20ebc1-baaf-4359-998a-671bf7fdf5f9",
   "metadata": {},
   "source": [
    "We can examine the resulting vocabilary, which should be a dictionary of words as keys (these are our vocab words), mapping to the \"index\" of the corresponding word."
   ]
  },
  {
   "cell_type": "code",
   "execution_count": 5,
   "id": "35e8c3aa-4b31-4ca7-ae5d-25a95fac88b9",
   "metadata": {},
   "outputs": [
    {
     "data": {
      "text/plain": [
       "{'to': 54,\n",
       " 'be': 5,\n",
       " 'or': 36,\n",
       " 'not': 31,\n",
       " 'that': 49,\n",
       " 'is': 19,\n",
       " 'the': 50,\n",
       " 'question': 42,\n",
       " 'all': 0,\n",
       " 'world': 62,\n",
       " 'stage': 47,\n",
       " 'and': 1,\n",
       " 'men': 24,\n",
       " 'women': 61,\n",
       " 'merely': 25,\n",
       " 'players': 40,\n",
       " 'romeo': 43,\n",
       " 'wherefore': 58,\n",
       " 'art': 3,\n",
       " 'thou': 53,\n",
       " 'now': 32,\n",
       " 'winter': 60,\n",
       " 'of': 34,\n",
       " 'our': 38,\n",
       " 'discontent': 10,\n",
       " 'this': 52,\n",
       " 'dagger': 9,\n",
       " 'which': 59,\n",
       " 'see': 45,\n",
       " 'before': 6,\n",
       " 'me': 23,\n",
       " 'handle': 15,\n",
       " 'toward': 56,\n",
       " 'my': 29,\n",
       " 'hand': 14,\n",
       " 'lady': 20,\n",
       " 'doth': 11,\n",
       " 'protest': 41,\n",
       " 'too': 55,\n",
       " 'much': 27,\n",
       " 'methinks': 26,\n",
       " 'beware': 7,\n",
       " 'ides': 16,\n",
       " 'march': 22,\n",
       " 'get': 13,\n",
       " 'thee': 51,\n",
       " 'nunnery': 33,\n",
       " 'if': 17,\n",
       " 'music': 28,\n",
       " 'food': 12,\n",
       " 'love': 21,\n",
       " 'play': 39,\n",
       " 'on': 35,\n",
       " 'what': 57,\n",
       " 'in': 18,\n",
       " 'name': 30,\n",
       " 'rose': 44,\n",
       " 'by': 8,\n",
       " 'any': 2,\n",
       " 'other': 37,\n",
       " 'would': 63,\n",
       " 'smell': 46,\n",
       " 'as': 4,\n",
       " 'sweet': 48}"
      ]
     },
     "execution_count": 5,
     "metadata": {},
     "output_type": "execute_result"
    }
   ],
   "source": [
    "vocab = np.array([ k for k, v in sorted(vec.vocabulary_.items(), key=lambda item: item[1]) ])\n",
    "vec.vocabulary_"
   ]
  },
  {
   "cell_type": "markdown",
   "id": "8d863306-5b80-4770-be77-5e16b7219c58",
   "metadata": {},
   "source": [
    "From here, we can see that the word \"be\" has the index 5 (i.e., it will be the sixth word in the order of our vocabulary)\n",
    "\n",
    "Now that we have a working vectorizer, we can apply it to our data (note that we could have done this in one step with `fit_transform`!)"
   ]
  },
  {
   "cell_type": "code",
   "execution_count": 6,
   "id": "bf2825c8-2dbb-4a29-9791-58a43b15525e",
   "metadata": {},
   "outputs": [
    {
     "data": {
      "text/plain": [
       "<10x64 sparse matrix of type '<class 'numpy.int64'>'\n",
       "\twith 76 stored elements in Compressed Sparse Row format>"
      ]
     },
     "execution_count": 6,
     "metadata": {},
     "output_type": "execute_result"
    }
   ],
   "source": [
    "X = vec.transform(quotes)\n",
    "X"
   ]
  },
  {
   "cell_type": "markdown",
   "id": "76e74eb7-8462-4c20-b571-58dfdfdd5d51",
   "metadata": {},
   "source": [
    "Looking at the result we can see that it is a _sparse_ matrix (see Lecture 20), which means that it cannot be easily passed around to things that expect a dense matrix. In this particular case, the data is small enough that we can directly extract the dense matrix (this will almost never be the case for \"interesting\" data sets)."
   ]
  },
  {
   "cell_type": "code",
   "execution_count": 7,
   "id": "18c69d8e-c530-45c8-a9c0-0bff39597fa4",
   "metadata": {},
   "outputs": [
    {
     "data": {
      "text/plain": [
       "array([[0, 0, 0, 0, 0, 2, 0, 0, 0, 0, 0, 0, 0, 0, 0, 0, 0, 0, 0, 1, 0, 0,\n",
       "        0, 0, 0, 0, 0, 0, 0, 0, 0, 1, 0, 0, 0, 0, 1, 0, 0, 0, 0, 0, 1, 0,\n",
       "        0, 0, 0, 0, 0, 1, 1, 0, 0, 0, 2, 0, 0, 0, 0, 0, 0, 0, 0, 0],\n",
       "       [2, 2, 0, 0, 0, 0, 0, 0, 0, 0, 0, 0, 0, 0, 0, 0, 0, 0, 0, 0, 0, 0,\n",
       "        0, 0, 1, 1, 0, 0, 0, 0, 0, 0, 0, 0, 0, 0, 0, 0, 0, 0, 1, 0, 0, 0,\n",
       "        0, 0, 0, 1, 0, 0, 2, 0, 0, 0, 0, 0, 0, 0, 0, 0, 0, 1, 1, 0],\n",
       "       [0, 0, 0, 1, 0, 0, 0, 0, 0, 0, 0, 0, 0, 0, 0, 0, 0, 0, 0, 0, 0, 0,\n",
       "        0, 0, 0, 0, 0, 0, 0, 0, 0, 0, 0, 0, 0, 0, 0, 0, 0, 0, 0, 0, 0, 3,\n",
       "        0, 0, 0, 0, 0, 0, 0, 0, 0, 1, 0, 0, 0, 0, 1, 0, 0, 0, 0, 0],\n",
       "       [0, 0, 0, 0, 0, 0, 0, 0, 0, 0, 1, 0, 0, 0, 0, 0, 0, 0, 0, 1, 0, 0,\n",
       "        0, 0, 0, 0, 0, 0, 0, 0, 0, 0, 1, 0, 1, 0, 0, 0, 1, 0, 0, 0, 0, 0,\n",
       "        0, 0, 0, 0, 0, 0, 1, 0, 0, 0, 0, 0, 0, 0, 0, 0, 1, 0, 0, 0],\n",
       "       [0, 0, 0, 0, 0, 0, 1, 0, 0, 1, 0, 0, 0, 0, 1, 1, 0, 0, 0, 1, 0, 0,\n",
       "        0, 1, 0, 0, 0, 0, 0, 1, 0, 0, 0, 0, 0, 0, 0, 0, 0, 0, 0, 0, 0, 0,\n",
       "        0, 1, 0, 0, 0, 0, 1, 0, 1, 0, 0, 0, 1, 0, 0, 1, 0, 0, 0, 0],\n",
       "       [0, 0, 0, 0, 0, 0, 0, 0, 0, 0, 0, 1, 0, 0, 0, 0, 0, 0, 0, 0, 1, 0,\n",
       "        0, 0, 0, 0, 1, 1, 0, 0, 0, 0, 0, 0, 0, 0, 0, 0, 0, 0, 0, 1, 0, 0,\n",
       "        0, 0, 0, 0, 0, 0, 1, 0, 0, 0, 0, 1, 0, 0, 0, 0, 0, 0, 0, 0],\n",
       "       [0, 0, 0, 0, 0, 0, 0, 1, 0, 0, 0, 0, 0, 0, 0, 0, 1, 0, 0, 0, 0, 0,\n",
       "        1, 0, 0, 0, 0, 0, 0, 0, 0, 0, 0, 0, 1, 0, 0, 0, 0, 0, 0, 0, 0, 0,\n",
       "        0, 0, 0, 0, 0, 0, 1, 0, 0, 0, 0, 0, 0, 0, 0, 0, 0, 0, 0, 0],\n",
       "       [0, 0, 0, 0, 0, 0, 0, 0, 0, 0, 0, 0, 0, 1, 0, 0, 0, 0, 0, 0, 0, 0,\n",
       "        0, 0, 0, 0, 0, 0, 0, 0, 0, 0, 0, 1, 0, 0, 0, 0, 0, 0, 0, 0, 0, 0,\n",
       "        0, 0, 0, 0, 0, 0, 0, 1, 0, 0, 1, 0, 0, 0, 0, 0, 0, 0, 0, 0],\n",
       "       [0, 0, 0, 0, 0, 1, 0, 0, 0, 0, 0, 0, 1, 0, 0, 0, 0, 1, 0, 0, 0, 1,\n",
       "        0, 0, 0, 0, 0, 0, 1, 0, 0, 0, 0, 0, 1, 1, 0, 0, 0, 1, 0, 0, 0, 0,\n",
       "        0, 0, 0, 0, 0, 0, 1, 0, 0, 0, 0, 0, 0, 0, 0, 0, 0, 0, 0, 0],\n",
       "       [0, 0, 1, 0, 1, 0, 0, 0, 1, 0, 0, 0, 0, 0, 0, 0, 0, 0, 1, 0, 0, 0,\n",
       "        0, 0, 0, 0, 0, 0, 0, 0, 2, 0, 0, 0, 0, 0, 0, 1, 0, 0, 0, 0, 0, 0,\n",
       "        1, 0, 1, 0, 1, 0, 0, 0, 0, 0, 0, 0, 0, 1, 0, 0, 0, 0, 0, 1]],\n",
       "      dtype=int64)"
      ]
     },
     "execution_count": 7,
     "metadata": {},
     "output_type": "execute_result"
    }
   ],
   "source": [
    "np.asarray(X.todense())"
   ]
  },
  {
   "cell_type": "markdown",
   "id": "f69c359f-f660-4ffa-b4f3-ea3053126a63",
   "metadata": {},
   "source": [
    "Now, let's have a quick look at one quote to see its corresponding BOW features:"
   ]
  },
  {
   "cell_type": "code",
   "execution_count": 8,
   "id": "c904a415-2f21-406b-87c0-a9bcf025ee03",
   "metadata": {},
   "outputs": [
    {
     "name": "stdout",
     "output_type": "stream",
     "text": [
      "To be, or not to be: that is the question   (0, 5)\t2\n",
      "  (0, 19)\t1\n",
      "  (0, 31)\t1\n",
      "  (0, 36)\t1\n",
      "  (0, 42)\t1\n",
      "  (0, 49)\t1\n",
      "  (0, 50)\t1\n",
      "  (0, 54)\t2\n",
      "to 2\n",
      "be 2\n",
      "or 1\n",
      "not 1\n",
      "that 1\n",
      "is 1\n",
      "the 1\n",
      "question 1\n"
     ]
    }
   ],
   "source": [
    "print(quotes[0], X[0])\n",
    "for i in [ 54, 5, 36, 31, 49, 19, 50, 42 ]:\n",
    "    print(vocab[i], X[0, i])"
   ]
  },
  {
   "cell_type": "markdown",
   "id": "d8596e44-9315-4b20-b6ac-305e4d7abe33",
   "metadata": {},
   "source": [
    "As can be seen, this famous quote from Hamlet has a corresponding entry of 1 for all the words in the quote, except for \"to\" and \"be\", as they appear twice (hint: if you can't see this pattern, look up the words in the vocabulary and match their index to the entries in this array).\n",
    "\n",
    "Another sentence from Richard III has the very distinct words \"discontent\" and \"winter\", however a bag of words does not reveal this novelty:"
   ]
  },
  {
   "cell_type": "code",
   "execution_count": 9,
   "id": "28614c3f-ee52-4c6e-bb36-75d03394fdc9",
   "metadata": {},
   "outputs": [
    {
     "name": "stdout",
     "output_type": "stream",
     "text": [
      "Now is the winter of our discontent   (0, 10)\t1\n",
      "  (0, 19)\t1\n",
      "  (0, 32)\t1\n",
      "  (0, 34)\t1\n",
      "  (0, 38)\t1\n",
      "  (0, 50)\t1\n",
      "  (0, 60)\t1\n",
      "now 1\n",
      "is 1\n",
      "the 1\n",
      "winter 1\n",
      "of 1\n",
      "our 1\n",
      "discontent 1\n"
     ]
    }
   ],
   "source": [
    "print(quotes[3], X[3])\n",
    "for i in [ 32, 19, 50, 60, 34, 38, 10 ]:\n",
    "    print(vocab[i], X[3, i])"
   ]
  },
  {
   "cell_type": "markdown",
   "id": "7fec9a8f-42d7-488d-8c06-04e6e9d70f83",
   "metadata": {},
   "source": [
    "In many cases, it is likely that this novelty will be useful information. As discussed in lectures, we can use the tf-idf transformation to emphasise rare words in documents, and de-emphasise common words. Applying tf-idf can be done in a similar manner to bags of words, just using a different `TfidfTransformer` object:"
   ]
  },
  {
   "cell_type": "code",
   "execution_count": 10,
   "id": "5bf64131-2977-4943-a932-021bd7b7f715",
   "metadata": {},
   "outputs": [],
   "source": [
    "tfidf = TfidfTransformer().fit(X)\n",
    "T = tfidf.transform(X)"
   ]
  },
  {
   "cell_type": "markdown",
   "id": "630e46af-75a3-4116-8c37-1985f8d3dbf8",
   "metadata": {},
   "source": [
    "And we can see the direct impact that this has on feature relevance:"
   ]
  },
  {
   "cell_type": "code",
   "execution_count": 11,
   "id": "5a8e5fa6-6a4e-4006-9de9-35e6763b0154",
   "metadata": {},
   "outputs": [
    {
     "name": "stdout",
     "output_type": "stream",
     "text": [
      "Now is the winter of our discontent   (0, 60)\t0.4325850588523637\n",
      "  (0, 50)\t0.21086746913943424\n",
      "  (0, 38)\t0.4325850588523637\n",
      "  (0, 34)\t0.321726263995899\n",
      "  (0, 32)\t0.4325850588523637\n",
      "  (0, 19)\t0.321726263995899\n",
      "  (0, 10)\t0.4325850588523637\n",
      "now 1 0.4325850588523637\n",
      "is 1 0.321726263995899\n",
      "the 1 0.21086746913943424\n",
      "winter 1 0.4325850588523637\n",
      "of 1 0.321726263995899\n",
      "our 1 0.4325850588523637\n",
      "discontent 1 0.4325850588523637\n"
     ]
    }
   ],
   "source": [
    "print(quotes[3], T[3])\n",
    "\n",
    "for i in [ 32, 19, 50, 60, 34, 38, 10 ]:\n",
    "    print(vocab[i], X[3, i], T[3, i])"
   ]
  },
  {
   "cell_type": "markdown",
   "id": "4c983eba-1a75-4148-ad48-6acce6fcb8fd",
   "metadata": {},
   "source": [
    "As shown, the importance of \"winter\", and \"discontent\" have been raised, while the more common words \"is\" and \"the\" are reduced in importance."
   ]
  },
  {
   "cell_type": "markdown",
   "id": "b7f0825d-e5b6-474a-8922-31ba9d27213f",
   "metadata": {},
   "source": [
    "### \"Principal Components\" of Sparse Matrices\n",
    "\n",
    "As can be seen, even on this tiny set of data, a large number of features are produced. It may be tempting to consider a reduction of features, such as that provided by PCA. However, PCA requires centred data (and the concept of centring BOW encodings doesn't really make sense), and is not well-suited to the properties of sparse features such as those produced by BOW processes. However, there is a related operator to PCA called _truncated SVD_ that is suited to sparse data. For example, if we wished to extract to the first two \"principal components\" of our tf-idf data, we could perform the following:"
   ]
  },
  {
   "cell_type": "code",
   "execution_count": 12,
   "id": "5473003d-2572-4de2-aedd-93fdc447c0e7",
   "metadata": {},
   "outputs": [
    {
     "name": "stdout",
     "output_type": "stream",
     "text": [
      "[[ 5.80547689e-01  5.42764735e-01]\n",
      " [ 2.64154883e-01 -2.09156420e-01]\n",
      " [-1.86607780e-16 -5.26630176e-16]\n",
      " [ 5.54996537e-01 -2.90815089e-01]\n",
      " [ 3.05227324e-01 -1.13636695e-01]\n",
      " [ 2.14310407e-01 -1.81791663e-01]\n",
      " [ 4.91803688e-01 -3.89376289e-01]\n",
      " [ 2.71958908e-01  7.38404343e-01]\n",
      " [ 5.67488341e-01 -6.01313326e-02]\n",
      " [-2.30952865e-16 -1.12010716e-16]]\n"
     ]
    }
   ],
   "source": [
    "dimred = TruncatedSVD(n_components=2)\n",
    "P = dimred.fit_transform(T)\n",
    "print(P)"
   ]
  },
  {
   "cell_type": "markdown",
   "id": "7533bd3f-96ea-4252-bfd5-ea2948cf8fcf",
   "metadata": {},
   "source": [
    "The `TruncatedSVD` object has many of the attributes of PCA, and so can be used in similar contexts (e.g., to plot projected data, and to present the amount of variation captured by the extracted components):"
   ]
  },
  {
   "cell_type": "code",
   "execution_count": 13,
   "id": "4120a5b1-39b3-4e29-a5e9-aeba02faeee4",
   "metadata": {},
   "outputs": [
    {
     "name": "stdout",
     "output_type": "stream",
     "text": [
      "Requested 64 components, got 10.\n"
     ]
    },
    {
     "data": {
      "image/png": "[encoded data removed]",
      "text/plain": [
       "<Figure size 2000x800 with 1 Axes>"
      ]
     },
     "metadata": {},
     "output_type": "display_data"
    },
    {
     "data": {
      "image/png": "[encoded data removed]",
      "text/plain": [
       "<Figure size 640x480 with 1 Axes>"
      ]
     },
     "metadata": {},
     "output_type": "display_data"
    }
   ],
   "source": [
    "def screeplot(pca, pipeline_component=None, prefix='PC', n_components=None):\n",
    "    import seaborn as sns\n",
    "    from matplotlib import pyplot as plt\n",
    "    \n",
    "    if pipeline_component is not None:\n",
    "        pca = pca[pipeline_component]\n",
    "\n",
    "    explained_variance = pca.explained_variance_ratio_\n",
    "    if n_components is not None: explained_variance = explained_variance[0:n_components]\n",
    "    \n",
    "    total_variance = np.cumsum(explained_variance)\n",
    "    ticks = range(len(explained_variance))\n",
    "    labels = [ f'{prefix}{i+1}' for i in ticks ]\n",
    "\n",
    "    plt.bar(x=range(len(explained_variance)), height=explained_variance, label='Component')\n",
    "    plt.plot(range(len(total_variance)), total_variance, 'o-', color='#ce2227', linewidth=2, label='Cumulative')\n",
    "    plt.xticks(ticks=ticks, labels=labels)\n",
    "    plt.xlabel('Principal Component')\n",
    "    plt.ylabel('Explained Variance')\n",
    "    plt.legend()\n",
    "    \n",
    "dimred = TruncatedSVD(n_components=len(vocab))\n",
    "P = dimred.fit_transform(T)\n",
    "print(f'Requested {len(vocab)} components, got {P.shape[1]}.')\n",
    "\n",
    "fig = plt.figure(figsize=(20, 8))\n",
    "screeplot(dimred)\n",
    "plt.show()\n",
    "\n",
    "plt.scatter(x=P[:, 0], y=P[:, 1], s=200)\n",
    "plt.show()"
   ]
  },
  {
   "cell_type": "markdown",
   "id": "6bc8f251",
   "metadata": {},
   "source": [
    "***<span style='color: #ce2227'>TASK 1:</span>*** Note that we requested 64 components from the `TruncatedSVD` object, but only 10 were returned. Why? (Hint: examining the documentation for the [n_components](https://scikit-learn.org/stable/modules/generated/sklearn.decomposition.TruncatedSVD.html#:~:text=Parameters%3A-,n_components,-int%2C%20default%3D2) argument of `PCA` may help here)"
   ]
  },
  {
   "cell_type": "markdown",
   "id": "0e9b4806",
   "metadata": {},
   "source": [
    "This is because by default TruncatedSVD uses the randomnised algorithms which means that n_components needs to be stricly less than or equal to the number of features."
   ]
  },
  {
   "cell_type": "markdown",
   "id": "27d78081-71d9-4a31-a6a6-61049ef4c314",
   "metadata": {},
   "source": [
    "In this particular example, the principal components are somewhat meaningless (which is to be expected, given the tiny sample size). However, in the presence of large amounts of data, they may become quite informative."
   ]
  },
  {
   "cell_type": "markdown",
   "id": "a4d66459-6abb-4d99-b415-908d47af4030",
   "metadata": {},
   "source": [
    "### Integrating Vectorizers into Pipelines\n",
    "\n",
    "Vectorizers serve to extract features from a set of provided inputs, therefore really become useful when they are integrated into pipelines. For example, the plot that was produced earlier by extracting features via tf-idf and then further processed by truncated SVD could be encapsulated via the following pipeline:"
   ]
  },
  {
   "cell_type": "code",
   "execution_count": 14,
   "id": "cf59f833-675c-4259-8cc1-8afdc284f5fb",
   "metadata": {},
   "outputs": [],
   "source": [
    "f_extract = Pipeline([\n",
    "    ('bow', CountVectorizer()),\n",
    "    ('tfidf', TfidfTransformer()),\n",
    "    ('dimred', TruncatedSVD())\n",
    "])\n",
    "\n"
   ]
  },
  {
   "cell_type": "markdown",
   "id": "64cb7a07-9f17-44ef-a8f7-4bc72cc44ecb",
   "metadata": {},
   "source": [
    "Then, we can extract the two required components directly from our text:"
   ]
  },
  {
   "cell_type": "code",
   "execution_count": 15,
   "id": "5c4ada27-86b2-4e49-92f6-3172629ef31c",
   "metadata": {},
   "outputs": [
    {
     "data": {
      "image/png": "[encoded data removed]",
      "text/plain": [
       "<Figure size 640x480 with 1 Axes>"
      ]
     },
     "metadata": {},
     "output_type": "display_data"
    }
   ],
   "source": [
    "P = f_extract.fit_transform(quotes)\n",
    "plt.scatter(x=P[:, 0], y=P[:, 1], s=200);"
   ]
  },
  {
   "cell_type": "markdown",
   "id": "aed702b8",
   "metadata": {},
   "source": [
    "#### Extracting stages from a Pipeline\n",
    "\n",
    "It is sometimes useful to be able to extract stages from a pipeline after it has been created (e.g., after it has been fit using a `GridSearchCV` object) to inspect or visualise a stage's properties. For example, you may wish to tune the number of principal components extracted by PCA within a supervised learning pipeline, and then use the best-identified PCA configuration to [`inverse_transform()`](https://scikit-learn.org/stable/modules/generated/sklearn.decomposition.PCA.html#sklearn.decomposition.PCA.inverse_transform) data (see the second assignment).\n",
    "\n",
    "Extracting the object used at a named stage in a pipeline is simple, we simply identify the name of the stage in question, and use this to index into the pipeline as if a dictionary or list. For example, to extract the `TruncatedSVD` step of our `f_extract` pipeline from the previous step, we would index the `'dimred'` stage of the pipeline:"
   ]
  },
  {
   "cell_type": "code",
   "execution_count": 16,
   "id": "1679e19e",
   "metadata": {},
   "outputs": [
    {
     "name": "stdout",
     "output_type": "stream",
     "text": [
      "Extracted a TruncatedSVD() object from the pipeline with 2 components.\n"
     ]
    }
   ],
   "source": [
    "dimred = f_extract['dimred']\n",
    "print(f'Extracted a {dimred} object from the pipeline with {dimred.n_components} components.')"
   ]
  },
  {
   "cell_type": "markdown",
   "id": "877d04e0",
   "metadata": {},
   "source": [
    "***<span style='color: #ce2227'>TASK 2:</span>*** Recreate the screeplot from earlier in this lab, but this time use a `Pipeline` to encapsulate the work. Make sure that the pipeline contains the required steps (a vectorizer, followed by TF-IDF, and finally truncated SVD that extracts the required number of components). Once the pipeline is constructed and fitted to our test corpus in `quotes`, you will need to extract the TruncatedSVD object from the appropriate step, and then use the supplied `screeplot` function to produce the required plot."
   ]
  },
  {
   "cell_type": "code",
   "execution_count": 17,
   "id": "8d4ecbeb",
   "metadata": {},
   "outputs": [
    {
     "data": {
      "image/png": "[encoded data removed]",
      "text/plain": [
       "<Figure size 2000x800 with 1 Axes>"
      ]
     },
     "metadata": {},
     "output_type": "display_data"
    },
    {
     "data": {
      "image/png": "[encoded data removed]",
      "text/plain": [
       "<Figure size 640x480 with 1 Axes>"
      ]
     },
     "metadata": {},
     "output_type": "display_data"
    }
   ],
   "source": [
    "scree_extract = Pipeline([\n",
    "    ('bow', CountVectorizer()),\n",
    "    ('tfidf', TfidfTransformer()),\n",
    "    ('dimred', TruncatedSVD())\n",
    "])\n",
    "scree_extract['dimred'].n_components = 64\n",
    "P = scree_extract.fit_transform(quotes)\n",
    "fig = plt.figure(figsize=(20, 8))\n",
    "screeplot(scree_extract['dimred'])\n",
    "plt.show()\n",
    "\n",
    "plt.scatter(x=P[:, 0], y=P[:, 1], s=200)\n",
    "plt.show()"
   ]
  },
  {
   "cell_type": "markdown",
   "id": "70114a6b-53c3-4718-b32d-1d17e17cbeed",
   "metadata": {},
   "source": [
    "Naturally, this pipeline could be further extended to include, for example, a supervised learning method like logistic regression. (which is exactly what you will do in the next section!)"
   ]
  },
  {
   "cell_type": "markdown",
   "id": "3d13d6a1-0896-4bf3-b83b-2cc05e4e5ddb",
   "metadata": {},
   "source": [
    "## SPAM Detection via NLP\n",
    "\n",
    "## Data Setup\n",
    "We have provided a CSV file that contains the contents of emails from a range of sources (we've put this file on dropbox to make it easier for Colab users - if you are working offline, then download the file from [here](https://dl.dropboxusercontent.com/s/nhnfsqyj6a8egx6/spam.csv.gz?dl=0), save it locally, and change the `spam_url` variable to point to this local file). This can be read in using the normal `read_csv` routines:"
   ]
  },
  {
   "cell_type": "code",
   "execution_count": 18,
   "id": "65dcbc1c-2f98-45ea-bec4-861e46bb390b",
   "metadata": {},
   "outputs": [],
   "source": [
    "spam_url = 'https://dl.dropboxusercontent.com/s/nhnfsqyj6a8egx6/spam.csv.gz?dl=0'\n",
    "spam_df = pd.read_csv(spam_url, index_col=0, compression='gzip')"
   ]
  },
  {
   "cell_type": "markdown",
   "id": "2b55066c-eefe-41a0-80e3-7ef1154be714",
   "metadata": {},
   "source": [
    "A quick examination of the data suggests that each email has be presented in a raw text format, and has been labelled as a normal email (class '-') or a spam email (class '+') "
   ]
  },
  {
   "cell_type": "code",
   "execution_count": 19,
   "id": "2614b772-3c1c-485c-bd12-4e98a919a03d",
   "metadata": {},
   "outputs": [
    {
     "data": {
      "text/html": [
       "<div>\n",
       "<style scoped>\n",
       "    .dataframe tbody tr th:only-of-type {\n",
       "        vertical-align: middle;\n",
       "    }\n",
       "\n",
       "    .dataframe tbody tr th {\n",
       "        vertical-align: top;\n",
       "    }\n",
       "\n",
       "    .dataframe thead th {\n",
       "        text-align: right;\n",
       "    }\n",
       "</style>\n",
       "<table border=\"1\" class=\"dataframe\">\n",
       "  <thead>\n",
       "    <tr style=\"text-align: right;\">\n",
       "      <th></th>\n",
       "      <th>text</th>\n",
       "      <th>class</th>\n",
       "    </tr>\n",
       "  </thead>\n",
       "  <tbody>\n",
       "    <tr>\n",
       "      <th>data/easy_ham\\1211.84b0b651923557c12187ec32ed8d5c24</th>\n",
       "      <td>--==_Exmh_2018282504P\\n\\nContent-Type: text/pl...</td>\n",
       "      <td>-</td>\n",
       "    </tr>\n",
       "    <tr>\n",
       "      <th>data/BG\\2004\\12\\1104259025.840_235.txt</th>\n",
       "      <td>&lt;html&gt;\\n\\nNew ClALlS softtabs = lNSTANT R0CKHA...</td>\n",
       "      <td>+</td>\n",
       "    </tr>\n",
       "    <tr>\n",
       "      <th>data/easy_ham\\00163.b1c2e35dfbadbea6df3815717933f1fa</th>\n",
       "      <td>On Tue, 2002-07-30 at 13:17, Patton, Tony wrot...</td>\n",
       "      <td>-</td>\n",
       "    </tr>\n",
       "    <tr>\n",
       "      <th>data/GP\\part9\\msg13444.eml</th>\n",
       "      <td>&lt;html&gt;\\n\\n&lt;body&gt;\\n\\n&lt;center&gt;\\n\\n&lt;body bgcolor=...</td>\n",
       "      <td>+</td>\n",
       "    </tr>\n",
       "    <tr>\n",
       "      <th>data/easy_ham\\00440.c3f2884506305948c017149cbd75fdcf</th>\n",
       "      <td>Just wondering if anyone has implemented one b...</td>\n",
       "      <td>-</td>\n",
       "    </tr>\n",
       "    <tr>\n",
       "      <th>...</th>\n",
       "      <td>...</td>\n",
       "      <td>...</td>\n",
       "    </tr>\n",
       "    <tr>\n",
       "      <th>data/GP\\part12\\msg4179.eml</th>\n",
       "      <td>&lt;!DOCTYPE HTML PUBLIC \"-//W3C//DTD HTML 3.2//E...</td>\n",
       "      <td>+</td>\n",
       "    </tr>\n",
       "    <tr>\n",
       "      <th>data/GP\\part3\\msg6034.eml</th>\n",
       "      <td>&lt;META HTTP-EQUIV=3D\"Content-Type\" =\\n\\nCONTENT...</td>\n",
       "      <td>+</td>\n",
       "    </tr>\n",
       "    <tr>\n",
       "      <th>data/kaminski-v\\rice\\17</th>\n",
       "      <td>Please respond to Hello Vince and Kenneth,\\n\\n...</td>\n",
       "      <td>-</td>\n",
       "    </tr>\n",
       "    <tr>\n",
       "      <th>data/spam\\01043.0c5ba977fb678deeff6b841772e76c86</th>\n",
       "      <td>Look this is so hot that not only do you want ...</td>\n",
       "      <td>+</td>\n",
       "    </tr>\n",
       "    <tr>\n",
       "      <th>data/BG\\2004\\10\\1099198757.24383_284.txt</th>\n",
       "      <td>----91284474_00_3368623067\\n\\nContent-Type: te...</td>\n",
       "      <td>+</td>\n",
       "    </tr>\n",
       "  </tbody>\n",
       "</table>\n",
       "<p>52936 rows × 2 columns</p>\n",
       "</div>"
      ],
      "text/plain": [
       "                                                                                                 text  \\\n",
       "data/easy_ham\\1211.84b0b651923557c12187ec32ed8d...  --==_Exmh_2018282504P\\n\\nContent-Type: text/pl...   \n",
       "data/BG\\2004\\12\\1104259025.840_235.txt              <html>\\n\\nNew ClALlS softtabs = lNSTANT R0CKHA...   \n",
       "data/easy_ham\\00163.b1c2e35dfbadbea6df381571793...  On Tue, 2002-07-30 at 13:17, Patton, Tony wrot...   \n",
       "data/GP\\part9\\msg13444.eml                          <html>\\n\\n<body>\\n\\n<center>\\n\\n<body bgcolor=...   \n",
       "data/easy_ham\\00440.c3f2884506305948c017149cbd7...  Just wondering if anyone has implemented one b...   \n",
       "...                                                                                               ...   \n",
       "data/GP\\part12\\msg4179.eml                          <!DOCTYPE HTML PUBLIC \"-//W3C//DTD HTML 3.2//E...   \n",
       "data/GP\\part3\\msg6034.eml                           <META HTTP-EQUIV=3D\"Content-Type\" =\\n\\nCONTENT...   \n",
       "data/kaminski-v\\rice\\17                             Please respond to Hello Vince and Kenneth,\\n\\n...   \n",
       "data/spam\\01043.0c5ba977fb678deeff6b841772e76c86    Look this is so hot that not only do you want ...   \n",
       "data/BG\\2004\\10\\1099198757.24383_284.txt            ----91284474_00_3368623067\\n\\nContent-Type: te...   \n",
       "\n",
       "                                                   class  \n",
       "data/easy_ham\\1211.84b0b651923557c12187ec32ed8d...     -  \n",
       "data/BG\\2004\\12\\1104259025.840_235.txt                 +  \n",
       "data/easy_ham\\00163.b1c2e35dfbadbea6df381571793...     -  \n",
       "data/GP\\part9\\msg13444.eml                             +  \n",
       "data/easy_ham\\00440.c3f2884506305948c017149cbd7...     -  \n",
       "...                                                  ...  \n",
       "data/GP\\part12\\msg4179.eml                             +  \n",
       "data/GP\\part3\\msg6034.eml                              +  \n",
       "data/kaminski-v\\rice\\17                                -  \n",
       "data/spam\\01043.0c5ba977fb678deeff6b841772e76c86       +  \n",
       "data/BG\\2004\\10\\1099198757.24383_284.txt               +  \n",
       "\n",
       "[52936 rows x 2 columns]"
      ]
     },
     "execution_count": 19,
     "metadata": {},
     "output_type": "execute_result"
    }
   ],
   "source": [
    "spam_df"
   ]
  },
  {
   "cell_type": "markdown",
   "id": "7fb79db6-48d7-41be-a0e5-a724425fea6f",
   "metadata": {},
   "source": [
    "We can then examine specific emails, such as this spam message:"
   ]
  },
  {
   "cell_type": "code",
   "execution_count": 20,
   "id": "f4061268-1b19-466a-aafe-f6f924d0bb88",
   "metadata": {},
   "outputs": [
    {
     "name": "stdout",
     "output_type": "stream",
     "text": [
      "----0020580349134286\n",
      "\n",
      "Content-Type: text/plain;\n",
      "\n",
      "\tcharset=\"iso-9661-6\"\n",
      "\n",
      "Content-Transfer-Encoding: quoted-printable\n",
      "\n",
      "Content-Description: politburo posey nectary\n",
      "\n",
      "\n",
      "\n",
      "Online pharmacy - Visit our online store and save.\n",
      "\n",
      "\n",
      "\n",
      "Save up to 80% compared to normal rates.\n",
      "\n",
      "\n",
      "\n",
      "All popular drugs are available, including Vicodin!\n",
      "\n",
      "\n",
      "\n",
      "- World wide shipping\n",
      "\n",
      "- No Doctor Visits\n",
      "\n",
      "- No Prescriptions\n",
      "\n",
      "- Next Day Priority Shipping\n",
      "\n",
      "- Discreet Packaging\n",
      "\n",
      "- Buy in Bulk and Save!\n",
      "\n",
      "\n",
      "\n",
      "We make it easier and faster than ever to get the prescriptions you\n",
      "\n",
      "need.\n",
      "\n",
      "\n",
      "\n",
      "Go here: http://www.fidrugs.com/rx/?7\n",
      "\n",
      "\n",
      "\n",
      "\n",
      "\n",
      "\n",
      "\n",
      "\n",
      "\n",
      "\n",
      "\n",
      "No thanks: http://www.fidrugs.com/rmv/\n",
      "\n",
      "\n",
      "\n",
      "\n",
      "\n",
      "\n",
      "\n",
      "\n",
      "\n",
      "----0020580349134286--\n",
      "\n"
     ]
    }
   ],
   "source": [
    "print(spam_df['text'][5])"
   ]
  },
  {
   "cell_type": "markdown",
   "id": "c5197c7d-099e-4b65-9673-75170f9544da",
   "metadata": {},
   "source": [
    "In contrast to this \"normal\" email:"
   ]
  },
  {
   "cell_type": "code",
   "execution_count": 21,
   "id": "a22a5905-984e-4f26-80dd-d2ff6069f9ec",
   "metadata": {},
   "outputs": [
    {
     "name": "stdout",
     "output_type": "stream",
     "text": [
      "--==_Exmh_2018282504P\n",
      "\n",
      "Content-Type: text/plain; charset=us-ascii\n",
      "\n",
      "\n",
      "\n",
      "> From:  Chris Garrigues <cwg-bcc@DeepEddy.Com>\n",
      "\n",
      "> Date:  Mon, 23 Sep 2002 09:41:22 -0500\n",
      "\n",
      ">\n",
      "\n",
      "> > From:  Scott Lipcon <slipcon@mercea.net>\n",
      "\n",
      "> > Date:  Sun, 22 Sep 2002 22:58:16 -0400\n",
      "\n",
      "> >\n",
      "\n",
      "> > I just updated to the latest CVS - I had been running a build from June. \n",
      "\n",
      ">  \n",
      "\n",
      "> > Hitting the Flist button gives the following traceback:\n",
      "\n",
      "> > \n",
      "\n",
      "> > syntax error in expression \"int(17+1+(222-)*(19-17-2)/(224-))\"\n",
      "\n",
      "> >     while executing\n",
      "\n",
      "> > \"expr int($minLine+1+($msgid-$minMsg)*($maxLine-$minLine-2)/($maxMsg-$minMs\n",
      "\n",
      "> > g))\"\n",
      "\n",
      "> >     (procedure \"Ftoc_FindMsg\" line 57)\n",
      "\n",
      "> >     invoked from within\n",
      "\n",
      "> > \"Ftoc_FindMsg $i\"\n",
      "\n",
      "> >     (procedure \"Ftoc_ShowSequences\" line 16)\n",
      "\n",
      "> >     invoked from within\n",
      "\n",
      "> > \"Ftoc_ShowSequences $F\"\n",
      "\n",
      "> >     (procedure \"ScanFolder\" line 81)\n",
      "\n",
      "> >     invoked from within\n",
      "\n",
      "> > \"ScanFolder inbox 0\"\n",
      "\n",
      "> >     invoked from within\n",
      "\n",
      "> > \"time [list ScanFolder $F $adjustDisplay\"\n",
      "\n",
      "> >     (procedure \"Scan_Folder\" line 2)\n",
      "\n",
      "> >     invoked from within\n",
      "\n",
      "> > \"Scan_Folder $exmh(folder) $ftoc(showNew)\"\n",
      "\n",
      "> >     (procedure \"Inc_PresortFinish\" line 7)\n",
      "\n",
      "> >     invoked from within\n",
      "\n",
      "> > \"Inc_PresortFinish\"\n",
      "\n",
      "> >     invoked from within\n",
      "\n",
      "> > \".fops.flist invoke\"\n",
      "\n",
      "> >     (\"uplevel\" body line 1)\n",
      "\n",
      "> >     invoked from within\n",
      "\n",
      "> > \"uplevel #0 [list $w invoke]\"\n",
      "\n",
      "> >     (procedure \"tkButtonUp\" line 7)\n",
      "\n",
      "> >     invoked from within\n",
      "\n",
      "> > \"tkButtonUp .fops.flist\n",
      "\n",
      "> > \"\n",
      "\n",
      "> >     (command bound to event)\n",
      "\n",
      "> > \n",
      "\n",
      "> > \n",
      "\n",
      "> > It seems to only happen in a folder with no unseen messages.\n",
      "\n",
      "> > \n",
      "\n",
      "> > Chris, is this related to your recent changes?\n",
      "\n",
      "> \n",
      "\n",
      "> Curious.  I changed the arguments to Ftoc_ShowSequences to drop the folder \n",
      "\n",
      "> argument and instead have an optional msgids argument.  Somehow your version \n",
      "\n",
      "> of ScanFolder is still trying to pass $F.  You seem to have the latest \n",
      "\n",
      "> ftoc.tcl (1.36), but not the latest scan.tcl (1.27).\n",
      "\n",
      "> \n",
      "\n",
      "> I don't know how that happened, but try getting your source tree completely \n",
      "\n",
      "> up to date.\n",
      "\n",
      "\n",
      "\n",
      "Actually, I take that back.  You're not running the latest ftoc.tcl either.\n",
      "\n",
      "\n",
      "\n",
      "It probably is my bug, but it's in code that's been changed since you last \n",
      "\n",
      "updated from CVS (Saturday), so please update and let's see if the problem is \n",
      "\n",
      "still there.\n",
      "\n",
      "\n",
      "\n",
      "Chris\n",
      "\n",
      "\n",
      "\n",
      "-- \n",
      "\n",
      "Chris Garrigues                 http://www.DeepEddy.Com/~cwg/\n",
      "\n",
      "virCIO                          http://www.virCIO.Com\n",
      "\n",
      "716 Congress, Suite 200\n",
      "\n",
      "Austin, TX  78701\t\t+1 512 374 0500\n",
      "\n",
      "\n",
      "\n",
      "  World War III:  The Wrong-Doers Vs. the Evil-Doers.\n",
      "\n",
      "\n",
      "\n",
      "\n",
      "\n",
      "\n",
      "\n",
      "\n",
      "\n",
      "--==_Exmh_2018282504P\n",
      "\n",
      "Content-Type: application/pgp-signature\n",
      "\n",
      "\n",
      "\n",
      "-----BEGIN PGP SIGNATURE-----\n",
      "\n",
      "Version: GnuPG v1.0.6 (GNU/Linux)\n",
      "\n",
      "Comment: Exmh version 2.2_20000822 06/23/2000\n",
      "\n",
      "\n",
      "\n",
      "iD8DBQE9jywkK9b4h5R0IUIRAooIAJ4yCHFQ22/6OBD61tWNbb2sScOxPwCdGYE+\n",
      "\n",
      "cVdYZOjdN7A/nWpRHqusbJo=\n",
      "\n",
      "=AZsA\n",
      "\n",
      "-----END PGP SIGNATURE-----\n",
      "\n",
      "\n",
      "\n",
      "--==_Exmh_2018282504P--\n",
      "\n",
      "\n",
      "\n",
      "\n",
      "\n",
      "\n",
      "\n",
      "_______________________________________________\n",
      "\n",
      "Exmh-workers mailing list\n",
      "\n",
      "Exmh-workers@redhat.com\n",
      "\n",
      "https://listman.redhat.com/mailman/listinfo/exmh-workers\n",
      "\n",
      "\n",
      "\n",
      "\n",
      "\n"
     ]
    }
   ],
   "source": [
    "print(spam_df['text'][0])"
   ]
  },
  {
   "cell_type": "markdown",
   "id": "0af786af-d641-427b-8ac8-4aa55d25265e",
   "metadata": {},
   "source": [
    "For this lab, we will set up a training and testing split, with 10000 instances reserved for testing."
   ]
  },
  {
   "cell_type": "code",
   "execution_count": 22,
   "id": "1884a52f-75cd-48fc-960d-84ad18c05959",
   "metadata": {},
   "outputs": [
    {
     "data": {
      "text/html": [
       "<div>\n",
       "<style scoped>\n",
       "    .dataframe tbody tr th:only-of-type {\n",
       "        vertical-align: middle;\n",
       "    }\n",
       "\n",
       "    .dataframe tbody tr th {\n",
       "        vertical-align: top;\n",
       "    }\n",
       "\n",
       "    .dataframe thead th {\n",
       "        text-align: right;\n",
       "    }\n",
       "</style>\n",
       "<table border=\"1\" class=\"dataframe\">\n",
       "  <thead>\n",
       "    <tr style=\"text-align: right;\">\n",
       "      <th></th>\n",
       "      <th>text</th>\n",
       "      <th>class</th>\n",
       "    </tr>\n",
       "  </thead>\n",
       "  <tbody>\n",
       "    <tr>\n",
       "      <th>data/easy_ham\\1211.84b0b651923557c12187ec32ed8d5c24</th>\n",
       "      <td>--==_Exmh_2018282504P\\n\\nContent-Type: text/pl...</td>\n",
       "      <td>-</td>\n",
       "    </tr>\n",
       "    <tr>\n",
       "      <th>data/easy_ham\\00163.b1c2e35dfbadbea6df3815717933f1fa</th>\n",
       "      <td>On Tue, 2002-07-30 at 13:17, Patton, Tony wrot...</td>\n",
       "      <td>-</td>\n",
       "    </tr>\n",
       "    <tr>\n",
       "      <th>data/easy_ham\\00440.c3f2884506305948c017149cbd75fdcf</th>\n",
       "      <td>Just wondering if anyone has implemented one b...</td>\n",
       "      <td>-</td>\n",
       "    </tr>\n",
       "    <tr>\n",
       "      <th>data/BG\\2005\\01\\1106777559.21561_70.txt</th>\n",
       "      <td>----0020580349134286\\n\\nContent-Type: text/pla...</td>\n",
       "      <td>+</td>\n",
       "    </tr>\n",
       "  </tbody>\n",
       "</table>\n",
       "</div>"
      ],
      "text/plain": [
       "                                                                                                 text  \\\n",
       "data/easy_ham\\1211.84b0b651923557c12187ec32ed8d...  --==_Exmh_2018282504P\\n\\nContent-Type: text/pl...   \n",
       "data/easy_ham\\00163.b1c2e35dfbadbea6df381571793...  On Tue, 2002-07-30 at 13:17, Patton, Tony wrot...   \n",
       "data/easy_ham\\00440.c3f2884506305948c017149cbd7...  Just wondering if anyone has implemented one b...   \n",
       "data/BG\\2005\\01\\1106777559.21561_70.txt             ----0020580349134286\\n\\nContent-Type: text/pla...   \n",
       "\n",
       "                                                   class  \n",
       "data/easy_ham\\1211.84b0b651923557c12187ec32ed8d...     -  \n",
       "data/easy_ham\\00163.b1c2e35dfbadbea6df381571793...     -  \n",
       "data/easy_ham\\00440.c3f2884506305948c017149cbd7...     -  \n",
       "data/BG\\2005\\01\\1106777559.21561_70.txt                +  "
      ]
     },
     "metadata": {},
     "output_type": "display_data"
    }
   ],
   "source": [
    "text = spam_df['text'].astype('U')\n",
    "lab  = spam_df['class'].to_numpy()\n",
    "text_train, text_test, lab_train, lab_test = train_test_split(text, lab, train_size=10000, stratify=lab, random_state=1234)\n",
    "\n",
    "res = [ 0, 2, 4, 5 ]\n",
    "display(spam_df.iloc[res])"
   ]
  },
  {
   "cell_type": "markdown",
   "id": "230ec91c-b352-4241-84dc-8c96ea172d76",
   "metadata": {},
   "source": [
    "From the remaining instances used for training, we will use cross validation to select an appropriate model and evaluate this model on our test data."
   ]
  },
  {
   "cell_type": "markdown",
   "id": "0178418a",
   "metadata": {},
   "source": [
    "### Principal Component Analysis\n",
    "\n",
    "***<span style='color: #ce2227'>TASK 3:</span>*** Perform a Truncated SVD analysis of the training text corpus of SPAM emails. Use a maximum of 32 components and provide a screeplot of the result. Use a `Pipeline` for this."
   ]
  },
  {
   "cell_type": "code",
   "execution_count": 23,
   "id": "fa7a805a",
   "metadata": {},
   "outputs": [
    {
     "data": {
      "image/png": "[encoded data removed]",
      "text/plain": [
       "<Figure size 2000x800 with 1 Axes>"
      ]
     },
     "metadata": {},
     "output_type": "display_data"
    },
    {
     "data": {
      "image/png": "[encoded data removed]",
      "text/plain": [
       "<Figure size 640x480 with 1 Axes>"
      ]
     },
     "metadata": {},
     "output_type": "display_data"
    }
   ],
   "source": [
    "pca_extract = Pipeline([\n",
    "    ('bow', CountVectorizer()),\n",
    "    ('tfidf', TfidfTransformer()),\n",
    "    ('dimred', TruncatedSVD(n_components = 32))\n",
    "])\n",
    "P = pca_extract.fit_transform(text)\n",
    "fig = plt.figure(figsize=(20, 8))\n",
    "screeplot(pca_extract['dimred'])\n",
    "plt.show()\n",
    "\n",
    "plt.scatter(x=P[:, 0], y=P[:, 1], s=200)\n",
    "plt.show()"
   ]
  },
  {
   "cell_type": "markdown",
   "id": "4ca46c53-4036-4e4e-a63b-61fbabb891e9",
   "metadata": {},
   "source": [
    "### Obtaining a baseline\n",
    "\n",
    "Before continuing with the actual modelling, it would be useful to obtain a measure of baseline performance, so we know what a \"good\" model should be providing in terms of accuracy or F<sub>1</sub> score. Recall that you can do this via a dummy classifier.\n",
    "\n",
    "***<span style='color: #ce2227'>TASK 4:</span>*** Construct a dummy classifier on our training data, and measure its performance on our test data. Use a [`classification_report()`](https://scikit-learn.org/stable/modules/generated/sklearn.metrics.classification_report.html) call to describe its performance and print a `confusion_matrix`."
   ]
  },
  {
   "cell_type": "code",
   "execution_count": 24,
   "id": "dfa1fff8-09eb-446b-b325-05d51a96e949",
   "metadata": {},
   "outputs": [
    {
     "name": "stderr",
     "output_type": "stream",
     "text": [
      "C:\\Users\\Jayden\\OneDrive - University of Otago\\INFO204\\.venv\\lib\\site-packages\\sklearn\\metrics\\_classification.py:1334: UndefinedMetricWarning: Precision and F-score are ill-defined and being set to 0.0 in labels with no predicted samples. Use `zero_division` parameter to control this behavior.\n",
      "  _warn_prf(average, modifier, msg_start, len(result))\n",
      "C:\\Users\\Jayden\\OneDrive - University of Otago\\INFO204\\.venv\\lib\\site-packages\\sklearn\\metrics\\_classification.py:1334: UndefinedMetricWarning: Precision and F-score are ill-defined and being set to 0.0 in labels with no predicted samples. Use `zero_division` parameter to control this behavior.\n",
      "  _warn_prf(average, modifier, msg_start, len(result))\n",
      "C:\\Users\\Jayden\\OneDrive - University of Otago\\INFO204\\.venv\\lib\\site-packages\\sklearn\\metrics\\_classification.py:1334: UndefinedMetricWarning: Precision and F-score are ill-defined and being set to 0.0 in labels with no predicted samples. Use `zero_division` parameter to control this behavior.\n",
      "  _warn_prf(average, modifier, msg_start, len(result))\n"
     ]
    },
    {
     "data": {
      "text/plain": [
       "'              precision    recall  f1-score   support\\n\\n           +       0.57      1.00      0.73     24622\\n           -       0.00      0.00      0.00     18314\\n\\n    accuracy                           0.57     42936\\n   macro avg       0.29      0.50      0.36     42936\\nweighted avg       0.33      0.57      0.42     42936\\n'"
      ]
     },
     "execution_count": 24,
     "metadata": {},
     "output_type": "execute_result"
    }
   ],
   "source": [
    "dummy = DummyClassifier().fit(text_train, lab_train)\n",
    "y_pred = dummy.predict(text_test)\n",
    "classification_report(lab_test, y_pred)"
   ]
  },
  {
   "cell_type": "markdown",
   "id": "41c7ee20-e8aa-4309-a6d0-d2c4bc4f6a9f",
   "metadata": {},
   "source": [
    "### Wrapping it all up\n",
    "\n",
    "At this point, you have actually seen everything that you need to build a classifier for spam detection - you have seen how vectorizers work, how to build a pipeline and how to select a model via cross validation. So, let's get to it!\n",
    "\n",
    "First, we are going to use cross validation - this is a large data set, so to keep things relatively manageable, we will perform a single pass of 5-fold ross validation. We'll also use an $F_1$ scorer (even though there's only slight class imbalance). Next, we need set up a suitable pipeline to allow us to explore using either a `CountVectorizer` or a `TfidfVectorizer`, along with the required tuning grid. Finally, we will run the cross validation search on the pipeline, and extract the results. You've seen this process enough times now, so let's just rip through the code in one go!"
   ]
  },
  {
   "cell_type": "code",
   "execution_count": 25,
   "id": "1bfa0271-1278-4574-8741-a1250f6da2a2",
   "metadata": {},
   "outputs": [],
   "source": [
    "kf = KFold(n_splits=5, shuffle=True, random_state=1234)\n",
    "split_test_score_columns = [ f'split{i}_test_score' for i in range(kf.n_splits) ]\n",
    "\n",
    "scorer = make_scorer(f1_score, average='macro')\n",
    "\n",
    "lm = Pipeline([\n",
    "    ('bow', CountVectorizer()),\n",
    "    ('tfidf', None),\n",
    "    ('lm', LogisticRegression(max_iter=10000))\n",
    "])\n",
    "\n",
    "param_grid = {\n",
    "    'tfidf' : [ 'passthrough', TfidfTransformer() ],\n",
    "}\n",
    "\n",
    "cv = GridSearchCV(lm, param_grid=param_grid, scoring=scorer, cv=kf, n_jobs=-1).fit(text_train, lab_train)"
   ]
  },
  {
   "cell_type": "code",
   "execution_count": 26,
   "id": "385b75f6-2fef-470d-bd58-c514c67a8470",
   "metadata": {},
   "outputs": [
    {
     "name": "stdout",
     "output_type": "stream",
     "text": [
      "0.984085766791359 {'tfidf': 'passthrough'}\n"
     ]
    },
    {
     "data": {
      "text/html": [
       "<div>\n",
       "<style scoped>\n",
       "    .dataframe tbody tr th:only-of-type {\n",
       "        vertical-align: middle;\n",
       "    }\n",
       "\n",
       "    .dataframe tbody tr th {\n",
       "        vertical-align: top;\n",
       "    }\n",
       "\n",
       "    .dataframe thead th {\n",
       "        text-align: right;\n",
       "    }\n",
       "</style>\n",
       "<table border=\"1\" class=\"dataframe\">\n",
       "  <thead>\n",
       "    <tr style=\"text-align: right;\">\n",
       "      <th></th>\n",
       "      <th>mean_fit_time</th>\n",
       "      <th>std_fit_time</th>\n",
       "      <th>mean_score_time</th>\n",
       "      <th>std_score_time</th>\n",
       "      <th>param_tfidf</th>\n",
       "      <th>params</th>\n",
       "      <th>split0_test_score</th>\n",
       "      <th>split1_test_score</th>\n",
       "      <th>split2_test_score</th>\n",
       "      <th>split3_test_score</th>\n",
       "      <th>split4_test_score</th>\n",
       "      <th>mean_test_score</th>\n",
       "      <th>std_test_score</th>\n",
       "      <th>rank_test_score</th>\n",
       "    </tr>\n",
       "  </thead>\n",
       "  <tbody>\n",
       "    <tr>\n",
       "      <th>0</th>\n",
       "      <td>53.753779</td>\n",
       "      <td>2.878174</td>\n",
       "      <td>0.880949</td>\n",
       "      <td>0.342226</td>\n",
       "      <td>passthrough</td>\n",
       "      <td>{'tfidf': 'passthrough'}</td>\n",
       "      <td>0.984750</td>\n",
       "      <td>0.981245</td>\n",
       "      <td>0.985686</td>\n",
       "      <td>0.984678</td>\n",
       "      <td>0.984069</td>\n",
       "      <td>0.984086</td>\n",
       "      <td>0.001511</td>\n",
       "      <td>1</td>\n",
       "    </tr>\n",
       "    <tr>\n",
       "      <th>1</th>\n",
       "      <td>12.736750</td>\n",
       "      <td>0.847887</td>\n",
       "      <td>1.540297</td>\n",
       "      <td>0.066095</td>\n",
       "      <td>TfidfTransformer()</td>\n",
       "      <td>{'tfidf': TfidfTransformer()}</td>\n",
       "      <td>0.983227</td>\n",
       "      <td>0.979237</td>\n",
       "      <td>0.981613</td>\n",
       "      <td>0.976553</td>\n",
       "      <td>0.977917</td>\n",
       "      <td>0.979710</td>\n",
       "      <td>0.002425</td>\n",
       "      <td>2</td>\n",
       "    </tr>\n",
       "  </tbody>\n",
       "</table>\n",
       "</div>"
      ],
      "text/plain": [
       "   mean_fit_time  std_fit_time  mean_score_time  std_score_time  \\\n",
       "0      53.753779      2.878174         0.880949        0.342226   \n",
       "1      12.736750      0.847887         1.540297        0.066095   \n",
       "\n",
       "          param_tfidf                         params  split0_test_score  \\\n",
       "0         passthrough       {'tfidf': 'passthrough'}           0.984750   \n",
       "1  TfidfTransformer()  {'tfidf': TfidfTransformer()}           0.983227   \n",
       "\n",
       "   split1_test_score  split2_test_score  split3_test_score  split4_test_score  \\\n",
       "0           0.981245           0.985686           0.984678           0.984069   \n",
       "1           0.979237           0.981613           0.976553           0.977917   \n",
       "\n",
       "   mean_test_score  std_test_score  rank_test_score  \n",
       "0         0.984086        0.001511                1  \n",
       "1         0.979710        0.002425                2  "
      ]
     },
     "metadata": {},
     "output_type": "display_data"
    },
    {
     "data": {
      "text/plain": [
       "<AxesSubplot:>"
      ]
     },
     "execution_count": 26,
     "metadata": {},
     "output_type": "execute_result"
    },
    {
     "data": {
      "image/png": "[encoded data removed]",
      "text/plain": [
       "<Figure size 640x480 with 1 Axes>"
      ]
     },
     "metadata": {},
     "output_type": "display_data"
    }
   ],
   "source": [
    "print(cv.best_score_, cv.best_params_)\n",
    "\n",
    "cv_results = pd.DataFrame(cv.cv_results_)\n",
    "display(cv_results)\n",
    "\n",
    "cv_results.melt(id_vars=['param_tfidf'], value_vars=[ f'split{i}_test_score' for i in range(kf.n_splits) ]).pivot(index='variable', columns='param_tfidf', values='value').boxplot()"
   ]
  },
  {
   "cell_type": "markdown",
   "id": "075d42b3-8caf-4454-a815-17d4c3f69564",
   "metadata": {},
   "source": [
    "***<span style='color: #ce2227'>TASK 5:</span>*** Evaluate the best CV model on the test data, using the same process as used for the dummy classifier."
   ]
  },
  {
   "cell_type": "code",
   "execution_count": 27,
   "id": "de7d5de5-ccaa-4392-ad19-3199804dd03a",
   "metadata": {},
   "outputs": [],
   "source": [
    "### WRITE YOUR CODE HERE"
   ]
  },
  {
   "cell_type": "markdown",
   "id": "080023e8-fdd3-4e50-9185-abeb4e52629c",
   "metadata": {},
   "source": [
    "***<span style='color: #ce2227'>TASK 6:</span>*** Extend the pipeline defined in the previous example so that it includes a `TruncatedSVD` step within the process. Extend the cross validation tuning grid so that it explores the following number of components for the truncated SVD: [ 1, 2, 4, 8, 16, 32, 64 ]. Tune the pipeline using a `GridSearchCV` object, and convert the `cv_results_` attribute of this object (after fitting) to a data frame."
   ]
  },
  {
   "cell_type": "code",
   "execution_count": 28,
   "id": "01e4a75d",
   "metadata": {},
   "outputs": [],
   "source": [
    "### WRITE YOUR CODE HERE"
   ]
  },
  {
   "cell_type": "markdown",
   "id": "3535dc69",
   "metadata": {},
   "source": [
    "***<span style='color: #ce2227'>TASK 7:</span>*** Evaluate the best CV model on the test data, using the same process as used for the two previous examples. Also, produce a line plot of the cross validation tuning results, with the x axis being the number of components, the y axis being the cross validation test score, and \"hue\" being whether TF-IDF was used or not:"
   ]
  },
  {
   "cell_type": "code",
   "execution_count": 29,
   "id": "2d8d0e4d",
   "metadata": {},
   "outputs": [],
   "source": [
    "### WRITE YOUR CODE HERE"
   ]
  },
  {
   "cell_type": "markdown",
   "id": "ee24ab92",
   "metadata": {},
   "source": [
    "***<span style='color: #ce2227'>TASK 8:</span>*** If you have done everything correctly in the previous step, you should notice that using TF-IDF results in requiring far fewer components from the `TruncatedSVD` object in the pipeline in order to achieve good performance. Why do you think this is?"
   ]
  },
  {
   "cell_type": "markdown",
   "id": "5b41f1a6",
   "metadata": {},
   "source": [
    "_WRITE YOUR ANSWER HERE_"
   ]
  },
  {
   "cell_type": "markdown",
   "id": "e7b8b620",
   "metadata": {},
   "source": [
    "***<span style='color: #ce2227'>TASK 9:</span>*** Extract the `TruncatedSVD` object of the pipeline identified through cross validation (i.e., the `GridSearchCV` object's `best_estimator_` attribute will be a pipeline - identify the step within the pipeline that contains the `TuncatedSVD` object, and extract the object from this step). Perform a screeplot on this `TruncatedSVD` object:"
   ]
  },
  {
   "cell_type": "code",
   "execution_count": 30,
   "id": "05f1d66e",
   "metadata": {},
   "outputs": [],
   "source": [
    "### WRITE YOUR CODE HERE"
   ]
  },
  {
   "cell_type": "markdown",
   "id": "92c84b03-d223-414c-95dc-3ef43257bd56",
   "metadata": {},
   "source": [
    "### Computing finer-grained prediction outcomes (TRUE/FALSE -/+)\n",
    "\n",
    "The prediction performance used above is macroscopic in assessment - a prediction is either right or wrong. We can get further insights by knowing the nature of the error (e.g., a negative instance predicted as positive is a different type of error than a positive instance predicted as negative).\n",
    "\n",
    "Recall that, for binary classification, we have four outcomes:\n",
    "  1. True Positive - the prediction was positive, and this prediction is correct (i.e., the instance was also positive)\n",
    "  2. True Negative - the prediction was negative, and this prediction is correct (i.e., the instance was also negative)\n",
    "  3. False Positive - the prediction was positive, and this prediction is wrong (i.e., the instance was negative)\n",
    "  4. False Negative - the prediction was negative, and this prediction is wrong (i.e., the instance was positive)\n",
    "  \n",
    "We can extract this from our `lab_test` and `lab_pred` variables as follows:"
   ]
  },
  {
   "cell_type": "code",
   "execution_count": 31,
   "id": "efa4b2d4-2e84-4d8a-aa51-f8376343e25a",
   "metadata": {},
   "outputs": [
    {
     "ename": "NameError",
     "evalue": "name 'lab_pred' is not defined",
     "output_type": "error",
     "traceback": [
      "\u001b[1;31m---------------------------------------------------------------------------\u001b[0m",
      "\u001b[1;31mNameError\u001b[0m                                 Traceback (most recent call last)",
      "Input \u001b[1;32mIn [31]\u001b[0m, in \u001b[0;36m<cell line: 12>\u001b[1;34m()\u001b[0m\n\u001b[0;32m      8\u001b[0m     positive_outcome \u001b[38;5;241m=\u001b[39m y \u001b[38;5;241m==\u001b[39m positive_target\n\u001b[0;32m     10\u001b[0m     \u001b[38;5;28;01mreturn\u001b[39;00m labels[\u001b[38;5;241m2\u001b[39m \u001b[38;5;241m*\u001b[39m true_outcome \u001b[38;5;241m+\u001b[39m positive_outcome ]\n\u001b[1;32m---> 12\u001b[0m outcome \u001b[38;5;241m=\u001b[39m label_outcomes(lab_test, \u001b[43mlab_pred\u001b[49m, \u001b[38;5;124m'\u001b[39m\u001b[38;5;124m+\u001b[39m\u001b[38;5;124m'\u001b[39m, labels\u001b[38;5;241m=\u001b[39mnp\u001b[38;5;241m.\u001b[39marray([ \u001b[38;5;124m'\u001b[39m\u001b[38;5;124mFalse -\u001b[39m\u001b[38;5;124m'\u001b[39m, \u001b[38;5;124m'\u001b[39m\u001b[38;5;124mFalse +\u001b[39m\u001b[38;5;124m'\u001b[39m, \u001b[38;5;124m'\u001b[39m\u001b[38;5;124mTrue -\u001b[39m\u001b[38;5;124m'\u001b[39m, \u001b[38;5;124m'\u001b[39m\u001b[38;5;124mTrue +\u001b[39m\u001b[38;5;124m'\u001b[39m ]))\n\u001b[0;32m     13\u001b[0m outcome\n",
      "\u001b[1;31mNameError\u001b[0m: name 'lab_pred' is not defined"
     ]
    }
   ],
   "source": [
    "def label_outcomes(t, y, positive_target=None, labels=np.array([ 'FN', 'FP', 'TN', 'TP' ])):\n",
    "    if positive_target is None: positive_target=t[0]\n",
    "    if not isinstance(labels, np.ndarray): labels = np.array(labels)\n",
    "    if not isinstance(t, np.ndarray): t = np.array(t)\n",
    "    if not isinstance(y, np.ndarray): y = np.array(y)\n",
    "\n",
    "    true_outcome = t == y\n",
    "    positive_outcome = y == positive_target\n",
    "    \n",
    "    return labels[2 * true_outcome + positive_outcome ]\n",
    "\n",
    "outcome = label_outcomes(lab_test, lab_pred, '+', labels=np.array([ 'False -', 'False +', 'True -', 'True +' ]))\n",
    "outcome"
   ]
  },
  {
   "cell_type": "markdown",
   "id": "2cbbbb9f-337d-486e-9210-d3fcc517b725",
   "metadata": {},
   "source": [
    "You can then use this information to interrogate examples to hopefully better understand why they were (mis)classified in such a way. For example, let's look at a false positive example:"
   ]
  },
  {
   "cell_type": "code",
   "execution_count": null,
   "id": "eba02ad6-2b1a-4256-a39c-3b31a5fb2ee1",
   "metadata": {},
   "outputs": [],
   "source": [
    "print(text_test[outcome=='False +'][1])"
   ]
  },
  {
   "cell_type": "markdown",
   "id": "9e907a30-cc8a-43cb-878a-ef496bc91359",
   "metadata": {},
   "source": [
    "Likewise, we can examine false negatives (spam email that were classified as normal):"
   ]
  },
  {
   "cell_type": "code",
   "execution_count": null,
   "id": "9a64b700-ea40-465d-9192-c996808ab8f5",
   "metadata": {},
   "outputs": [],
   "source": [
    "print(text_test[outcome=='False -'][0])"
   ]
  },
  {
   "cell_type": "markdown",
   "id": "b553b188-1ed2-4c76-9373-77ce12a26866",
   "metadata": {},
   "source": [
    "## Wrap-Up\n",
    "\n",
    "In this lab, you have seen how bag of words feature contruction (and the related tf-idf) can be used to extract features from variable-length text documents and use them in supervised learning."
   ]
  }
 ],
 "metadata": {
  "kernelspec": {
   "display_name": "Python 3 (ipykernel)",
   "language": "python",
   "name": "python3"
  },
  "language_info": {
   "codemirror_mode": {
    "name": "ipython",
    "version": 3
   },
   "file_extension": ".py",
   "mimetype": "text/x-python",
   "name": "python",
   "nbconvert_exporter": "python",
   "pygments_lexer": "ipython3",
   "version": "3.10.5"
  },
  "vscode": {
   "interpreter": {
    "hash": "8cee10d90c8bacaf9909a99546f7b02b34bbd8407eebea03a6d2ead7eeabc0dd"
   }
  }
 },
 "nbformat": 4,
 "nbformat_minor": 5
}
